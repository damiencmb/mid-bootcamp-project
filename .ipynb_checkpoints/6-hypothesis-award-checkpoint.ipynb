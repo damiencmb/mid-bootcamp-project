{
 "cells": [
  {
   "cell_type": "markdown",
   "id": "8a93c112",
   "metadata": {},
   "source": [
    "# Is book a well rated because it won an award ?\n"
   ]
  },
  {
   "cell_type": "code",
   "execution_count": 1,
   "id": "577fa77a",
   "metadata": {},
   "outputs": [],
   "source": [
    "import pandas as pd\n",
    "import numpy as np\n",
    "pd.set_option('display.max_columns', None)"
   ]
  },
  {
   "cell_type": "code",
   "execution_count": 2,
   "id": "f94556cd",
   "metadata": {},
   "outputs": [],
   "source": [
    "df = pd.read_csv('df_for_analysis.csv') "
   ]
  },
  {
   "cell_type": "code",
   "execution_count": 3,
   "id": "4fb30d94",
   "metadata": {},
   "outputs": [],
   "source": [
    "df = df[(df['numRatings']> 100000)]"
   ]
  },
  {
   "cell_type": "code",
   "execution_count": 4,
   "id": "5a78a0a4",
   "metadata": {},
   "outputs": [
    {
     "data": {
      "text/plain": [
       "4.050805412371134"
      ]
     },
     "execution_count": 4,
     "metadata": {},
     "output_type": "execute_result"
    }
   ],
   "source": [
    "df['rating'].mean()"
   ]
  },
  {
   "cell_type": "code",
   "execution_count": 5,
   "id": "ba6e6af2",
   "metadata": {},
   "outputs": [
    {
     "data": {
      "text/plain": [
       "1    1053\n",
       "0     499\n",
       "Name: awards, dtype: int64"
      ]
     },
     "execution_count": 5,
     "metadata": {},
     "output_type": "execute_result"
    }
   ],
   "source": [
    "df['awards'].value_counts()"
   ]
  },
  {
   "cell_type": "code",
   "execution_count": 6,
   "id": "79d4bc71",
   "metadata": {},
   "outputs": [],
   "source": [
    "noaward = df[(df['awards'] == 0)]"
   ]
  },
  {
   "cell_type": "code",
   "execution_count": 7,
   "id": "62e9ddc8",
   "metadata": {},
   "outputs": [
    {
     "data": {
      "text/plain": [
       "4.02563126252505"
      ]
     },
     "execution_count": 7,
     "metadata": {},
     "output_type": "execute_result"
    }
   ],
   "source": [
    "noaward['rating'].mean()"
   ]
  },
  {
   "cell_type": "code",
   "execution_count": 8,
   "id": "b681b85a",
   "metadata": {},
   "outputs": [],
   "source": [
    "award = df[(df['awards'] == 1)]"
   ]
  },
  {
   "cell_type": "code",
   "execution_count": 9,
   "id": "4b6e5bb7",
   "metadata": {},
   "outputs": [
    {
     "name": "stdout",
     "output_type": "stream",
     "text": [
      "stat is   4.6712448451787365\n",
      "pvalue for the two-tailed test is  1.690622785568193e-06\n"
     ]
    }
   ],
   "source": [
    "from scipy.stats import ttest_1samp\n",
    "\n",
    "# H0 = mean rating awarded books => mean rating not awarded books\n",
    "# H1 = mean rating awarded books < mean rating not awarded books\n",
    "\n",
    "stat, pval = ttest_1samp(award['rating'], 4.03)\n",
    "\n",
    "print('stat is  ', stat)\n",
    "print('pvalue for the two-tailed test is ', pval/2)"
   ]
  },
  {
   "cell_type": "markdown",
   "id": "53e7e1eb",
   "metadata": {},
   "source": [
    "The p value is very low and the stat is positive as well as the null hypothesis was 'more than' so we fail to reject the null hypothesis."
   ]
  },
  {
   "cell_type": "code",
   "execution_count": 10,
   "id": "65f185a8",
   "metadata": {},
   "outputs": [
    {
     "data": {
      "text/plain": [
       "4.062735042735042"
      ]
     },
     "execution_count": 10,
     "metadata": {},
     "output_type": "execute_result"
    }
   ],
   "source": [
    "award['rating'].mean()"
   ]
  },
  {
   "cell_type": "markdown",
   "id": "e6334999",
   "metadata": {},
   "source": [
    "# We can't claim that a book is better rated if it's won an award. "
   ]
  },
  {
   "cell_type": "code",
   "execution_count": null,
   "id": "caeca240",
   "metadata": {},
   "outputs": [],
   "source": []
  }
 ],
 "metadata": {
  "kernelspec": {
   "display_name": "Python 3 (ipykernel)",
   "language": "python",
   "name": "python3"
  },
  "language_info": {
   "codemirror_mode": {
    "name": "ipython",
    "version": 3
   },
   "file_extension": ".py",
   "mimetype": "text/x-python",
   "name": "python",
   "nbconvert_exporter": "python",
   "pygments_lexer": "ipython3",
   "version": "3.11.4"
  }
 },
 "nbformat": 4,
 "nbformat_minor": 5
}
