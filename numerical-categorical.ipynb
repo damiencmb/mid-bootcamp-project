{
 "cells": [
  {
   "cell_type": "code",
   "execution_count": null,
   "id": "ffe0bb78",
   "metadata": {},
   "outputs": [],
   "source": [
    "import pandas as pd\n",
    "import numpy as np\n",
    "import matplotlib.pyplot as plt\n",
    "import seaborn as sns \n",
    "pd.set_option('display.max_columns', None)"
   ]
  },
  {
   "cell_type": "code",
   "execution_count": null,
   "id": "ce2285c0",
   "metadata": {},
   "outputs": [],
   "source": [
    "df = pd.read_csv('df_cleaned.csv') \n",
    "df"
   ]
  },
  {
   "cell_type": "markdown",
   "id": "e1cdff0d",
   "metadata": {},
   "source": [
    "## Categorical columns"
   ]
  },
  {
   "cell_type": "code",
   "execution_count": null,
   "id": "3839783a",
   "metadata": {},
   "outputs": [],
   "source": [
    "categorical = df.select_dtypes(include=object)"
   ]
  },
  {
   "cell_type": "code",
   "execution_count": null,
   "id": "642c238c",
   "metadata": {},
   "outputs": [],
   "source": [
    "categorical.columns.tolist()"
   ]
  },
  {
   "cell_type": "markdown",
   "id": "65ca927a",
   "metadata": {},
   "source": [
    "We will not focus on 'bookId', 'title', 'author', 'genres' and 'publishDate' columns because it as to many unique values.\\\n",
    "We keep 'author' and 'genres' columns for later.\\\n",
    "We add also the column 'awards' since there's only to values, 1 for 'yes' and 0 for 'no'."
   ]
  },
  {
   "cell_type": "code",
   "execution_count": null,
   "id": "a682b072",
   "metadata": {},
   "outputs": [],
   "source": [
    "categorical = df[['series', 'language',\n",
    " 'bookFormat',\n",
    " 'publisher', 'awards']]"
   ]
  },
  {
   "cell_type": "code",
   "execution_count": null,
   "id": "205bc252",
   "metadata": {},
   "outputs": [],
   "source": [
    "for col in categorical.columns:\n",
    "    display(categorical[col].value_counts())"
   ]
  },
  {
   "cell_type": "markdown",
   "id": "f051d445",
   "metadata": {},
   "source": [
    "### 1. Language"
   ]
  },
  {
   "cell_type": "markdown",
   "id": "33eaa7ba",
   "metadata": {},
   "source": [
    "Most of the books are in English, all the others languages will be grouped in 'other'"
   ]
  },
  {
   "cell_type": "code",
   "execution_count": null,
   "id": "10873e42",
   "metadata": {},
   "outputs": [],
   "source": [
    "categorical['language'] = np.where(categorical['language'].isin(['English']),'English','Other')\n"
   ]
  },
  {
   "cell_type": "code",
   "execution_count": null,
   "id": "6545e126",
   "metadata": {},
   "outputs": [],
   "source": [
    "categorical['language'].value_counts()"
   ]
  },
  {
   "cell_type": "markdown",
   "id": "4b6518bd",
   "metadata": {},
   "source": [
    "### 2. Book format"
   ]
  },
  {
   "cell_type": "markdown",
   "id": "d31deb65",
   "metadata": {},
   "source": [
    "Most of the book are paperback or hardcover, all the others formats will be grouped in 'other'"
   ]
  },
  {
   "cell_type": "code",
   "execution_count": null,
   "id": "58133380",
   "metadata": {},
   "outputs": [],
   "source": [
    "categorical['bookFormat'] = np.where(categorical['bookFormat'].isin(['Paperback', 'Hardcover']),categorical['bookFormat'],'Other')\n",
    "categorical['bookFormat'].value_counts()"
   ]
  },
  {
   "cell_type": "markdown",
   "id": "8a91de0a",
   "metadata": {},
   "source": [
    "### 3. Publisher"
   ]
  },
  {
   "cell_type": "markdown",
   "id": "22a6dd01",
   "metadata": {},
   "source": [
    "Since readers may be sensitive to the publisher we will take a closer look to the most 10 famous ones and group the others in 'Other'."
   ]
  },
  {
   "cell_type": "code",
   "execution_count": null,
   "id": "c21ed843",
   "metadata": {},
   "outputs": [],
   "source": [
    "publisher = pd.DataFrame(categorical['publisher'].value_counts())\n",
    "publisher.index.tolist()"
   ]
  },
  {
   "cell_type": "code",
   "execution_count": null,
   "id": "3aac8311",
   "metadata": {},
   "outputs": [],
   "source": [
    "categorical['publisher'] = np.where(categorical['publisher'].isin([\n",
    "'Vintage',\n",
    " 'HarperCollins',\n",
    " 'Penguin Books',\n",
    " 'Ballantine Books',\n",
    " 'Bantam',\n",
    " 'Createspace Independent Publishing Platform',\n",
    " 'Pocket Books',\n",
    " 'Avon',\n",
    " 'Berkley',\n",
    " 'Del Rey']),categorical['publisher'],'Other')\n",
    "categorical['publisher'].value_counts()"
   ]
  },
  {
   "cell_type": "markdown",
   "id": "909a7f2b",
   "metadata": {},
   "source": [
    "## Numerical columns"
   ]
  },
  {
   "cell_type": "code",
   "execution_count": null,
   "id": "d96ae8d2",
   "metadata": {},
   "outputs": [],
   "source": [
    "numerical = df.select_dtypes(include=np.number)\n",
    "numerical = numerical.drop(columns=['awards','bbeScore', 'bbeVotes'])\n",
    "numerical"
   ]
  },
  {
   "cell_type": "markdown",
   "id": "4468771a",
   "metadata": {},
   "source": [
    "## Outliers"
   ]
  },
  {
   "cell_type": "code",
   "execution_count": null,
   "id": "a7442a40",
   "metadata": {
    "scrolled": false
   },
   "outputs": [],
   "source": [
    "for col in numerical:\n",
    "    numerical[[col]].boxplot()\n",
    "    plt.show()"
   ]
  },
  {
   "cell_type": "markdown",
   "id": "7f111880",
   "metadata": {},
   "source": [
    "Only the column 'pages' seems to have problematic outliers, let's remove them "
   ]
  },
  {
   "cell_type": "code",
   "execution_count": null,
   "id": "3eb7e4b0",
   "metadata": {},
   "outputs": [],
   "source": [
    "iqr = np.percentile(numerical['pages'],75) - np.percentile(numerical['pages'],25)\n",
    "upper_limit = np.percentile(numerical['pages'],75) + 5*iqr\n",
    "lower_limit = np.percentile(numerical['pages'],25) - 5*iqr\n",
    "df_no_outliers = numerical[(numerical['pages']>lower_limit) & (numerical['pages']<upper_limit)].copy()\n",
    "sns.displot(df_no_outliers['pages'])\n",
    "plt.show()"
   ]
  },
  {
   "cell_type": "code",
   "execution_count": null,
   "id": "da68629f",
   "metadata": {},
   "outputs": [],
   "source": [
    "numerical['pages'] = df_no_outliers['pages']"
   ]
  },
  {
   "cell_type": "code",
   "execution_count": null,
   "id": "b021c633",
   "metadata": {},
   "outputs": [],
   "source": [
    "numerical[['pages']].boxplot()"
   ]
  },
  {
   "cell_type": "markdown",
   "id": "fd007202",
   "metadata": {},
   "source": [
    "### Now we have removed the outliers, let's check for correlations"
   ]
  },
  {
   "cell_type": "code",
   "execution_count": null,
   "id": "193f276d",
   "metadata": {},
   "outputs": [],
   "source": [
    "correlations_matrix = numerical.corr()\n",
    "sns.heatmap(correlations_matrix, annot=True)"
   ]
  },
  {
   "cell_type": "markdown",
   "id": "88ac791c",
   "metadata": {},
   "source": [
    "We can see that ratins are corralated with the percentage of liked books which can be explained by the fact that liked books are those with more than 2 stars.\\\n"
   ]
  },
  {
   "cell_type": "code",
   "execution_count": null,
   "id": "7aafcabe",
   "metadata": {
    "scrolled": false
   },
   "outputs": [],
   "source": [
    "for column in numerical:\n",
    "    sns.distplot(numerical[column])\n",
    "    plt.show()"
   ]
  },
  {
   "cell_type": "code",
   "execution_count": null,
   "id": "187dcf5f",
   "metadata": {},
   "outputs": [],
   "source": []
  },
  {
   "cell_type": "code",
   "execution_count": null,
   "id": "5e787d87",
   "metadata": {},
   "outputs": [],
   "source": []
  }
 ],
 "metadata": {
  "kernelspec": {
   "display_name": "Python 3 (ipykernel)",
   "language": "python",
   "name": "python3"
  },
  "language_info": {
   "codemirror_mode": {
    "name": "ipython",
    "version": 3
   },
   "file_extension": ".py",
   "mimetype": "text/x-python",
   "name": "python",
   "nbconvert_exporter": "python",
   "pygments_lexer": "ipython3",
   "version": "3.11.4"
  }
 },
 "nbformat": 4,
 "nbformat_minor": 5
}
