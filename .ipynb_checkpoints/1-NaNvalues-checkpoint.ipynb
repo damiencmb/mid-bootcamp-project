{
 "cells": [
  {
   "cell_type": "markdown",
   "id": "87f4f622",
   "metadata": {},
   "source": [
    "## For this project, we're going to look at the parameters that make a book well rated "
   ]
  },
  {
   "cell_type": "code",
   "execution_count": 1,
   "id": "27b9a978",
   "metadata": {},
   "outputs": [],
   "source": [
    "import pandas as pd\n",
    "import numpy as np\n",
    "import matplotlib.pyplot as plt\n",
    "import seaborn as sns \n",
    "pd.set_option('display.max_columns', None)"
   ]
  },
  {
   "cell_type": "code",
   "execution_count": 2,
   "id": "4e64019f",
   "metadata": {},
   "outputs": [
    {
     "data": {
      "text/html": [
       "<div>\n",
       "<style scoped>\n",
       "    .dataframe tbody tr th:only-of-type {\n",
       "        vertical-align: middle;\n",
       "    }\n",
       "\n",
       "    .dataframe tbody tr th {\n",
       "        vertical-align: top;\n",
       "    }\n",
       "\n",
       "    .dataframe thead th {\n",
       "        text-align: right;\n",
       "    }\n",
       "</style>\n",
       "<table border=\"1\" class=\"dataframe\">\n",
       "  <thead>\n",
       "    <tr style=\"text-align: right;\">\n",
       "      <th></th>\n",
       "      <th>bookId</th>\n",
       "      <th>title</th>\n",
       "      <th>series</th>\n",
       "      <th>author</th>\n",
       "      <th>rating</th>\n",
       "      <th>description</th>\n",
       "      <th>language</th>\n",
       "      <th>isbn</th>\n",
       "      <th>genres</th>\n",
       "      <th>characters</th>\n",
       "      <th>bookFormat</th>\n",
       "      <th>edition</th>\n",
       "      <th>pages</th>\n",
       "      <th>publisher</th>\n",
       "      <th>publishDate</th>\n",
       "      <th>firstPublishDate</th>\n",
       "      <th>awards</th>\n",
       "      <th>numRatings</th>\n",
       "      <th>ratingsByStars</th>\n",
       "      <th>likedPercent</th>\n",
       "      <th>setting</th>\n",
       "      <th>coverImg</th>\n",
       "      <th>bbeScore</th>\n",
       "      <th>bbeVotes</th>\n",
       "      <th>price</th>\n",
       "    </tr>\n",
       "  </thead>\n",
       "  <tbody>\n",
       "    <tr>\n",
       "      <th>0</th>\n",
       "      <td>2767052-the-hunger-games</td>\n",
       "      <td>The Hunger Games</td>\n",
       "      <td>The Hunger Games #1</td>\n",
       "      <td>Suzanne Collins</td>\n",
       "      <td>4.33</td>\n",
       "      <td>WINNING MEANS FAME AND FORTUNE.LOSING MEANS CE...</td>\n",
       "      <td>English</td>\n",
       "      <td>9780439023481</td>\n",
       "      <td>['Young Adult', 'Fiction', 'Dystopia', 'Fantas...</td>\n",
       "      <td>['Katniss Everdeen', 'Peeta Mellark', 'Cato (H...</td>\n",
       "      <td>Hardcover</td>\n",
       "      <td>First Edition</td>\n",
       "      <td>374</td>\n",
       "      <td>Scholastic Press</td>\n",
       "      <td>09/14/08</td>\n",
       "      <td>NaN</td>\n",
       "      <td>['Locus Award Nominee for Best Young Adult Boo...</td>\n",
       "      <td>6376780</td>\n",
       "      <td>['3444695', '1921313', '745221', '171994', '93...</td>\n",
       "      <td>96.0</td>\n",
       "      <td>['District 12, Panem', 'Capitol, Panem', 'Pane...</td>\n",
       "      <td>https://i.gr-assets.com/images/S/compressed.ph...</td>\n",
       "      <td>2993816</td>\n",
       "      <td>30516</td>\n",
       "      <td>5.09</td>\n",
       "    </tr>\n",
       "    <tr>\n",
       "      <th>1</th>\n",
       "      <td>2.Harry_Potter_and_the_Order_of_the_Phoenix</td>\n",
       "      <td>Harry Potter and the Order of the Phoenix</td>\n",
       "      <td>Harry Potter #5</td>\n",
       "      <td>J.K. Rowling, Mary GrandPré (Illustrator)</td>\n",
       "      <td>4.50</td>\n",
       "      <td>There is a door at the end of a silent corrido...</td>\n",
       "      <td>English</td>\n",
       "      <td>9780439358071</td>\n",
       "      <td>['Fantasy', 'Young Adult', 'Fiction', 'Magic',...</td>\n",
       "      <td>['Sirius Black', 'Draco Malfoy', 'Ron Weasley'...</td>\n",
       "      <td>Paperback</td>\n",
       "      <td>US Edition</td>\n",
       "      <td>870</td>\n",
       "      <td>Scholastic Inc.</td>\n",
       "      <td>09/28/04</td>\n",
       "      <td>06/21/03</td>\n",
       "      <td>['Bram Stoker Award for Works for Young Reader...</td>\n",
       "      <td>2507623</td>\n",
       "      <td>['1593642', '637516', '222366', '39573', '14526']</td>\n",
       "      <td>98.0</td>\n",
       "      <td>['Hogwarts School of Witchcraft and Wizardry (...</td>\n",
       "      <td>https://i.gr-assets.com/images/S/compressed.ph...</td>\n",
       "      <td>2632233</td>\n",
       "      <td>26923</td>\n",
       "      <td>7.38</td>\n",
       "    </tr>\n",
       "    <tr>\n",
       "      <th>2</th>\n",
       "      <td>2657.To_Kill_a_Mockingbird</td>\n",
       "      <td>To Kill a Mockingbird</td>\n",
       "      <td>To Kill a Mockingbird</td>\n",
       "      <td>Harper Lee</td>\n",
       "      <td>4.28</td>\n",
       "      <td>The unforgettable novel of a childhood in a sl...</td>\n",
       "      <td>English</td>\n",
       "      <td>9999999999999</td>\n",
       "      <td>['Classics', 'Fiction', 'Historical Fiction', ...</td>\n",
       "      <td>['Scout Finch', 'Atticus Finch', 'Jem Finch', ...</td>\n",
       "      <td>Paperback</td>\n",
       "      <td>NaN</td>\n",
       "      <td>324</td>\n",
       "      <td>Harper Perennial Modern Classics</td>\n",
       "      <td>05/23/06</td>\n",
       "      <td>07/11/60</td>\n",
       "      <td>['Pulitzer Prize for Fiction (1961)', 'Audie A...</td>\n",
       "      <td>4501075</td>\n",
       "      <td>['2363896', '1333153', '573280', '149952', '80...</td>\n",
       "      <td>95.0</td>\n",
       "      <td>['Maycomb, Alabama (United States)']</td>\n",
       "      <td>https://i.gr-assets.com/images/S/compressed.ph...</td>\n",
       "      <td>2269402</td>\n",
       "      <td>23328</td>\n",
       "      <td>NaN</td>\n",
       "    </tr>\n",
       "    <tr>\n",
       "      <th>3</th>\n",
       "      <td>1885.Pride_and_Prejudice</td>\n",
       "      <td>Pride and Prejudice</td>\n",
       "      <td>NaN</td>\n",
       "      <td>Jane Austen, Anna Quindlen (Introduction)</td>\n",
       "      <td>4.26</td>\n",
       "      <td>Alternate cover edition of ISBN 9780679783268S...</td>\n",
       "      <td>English</td>\n",
       "      <td>9999999999999</td>\n",
       "      <td>['Classics', 'Fiction', 'Romance', 'Historical...</td>\n",
       "      <td>['Mr. Bennet', 'Mrs. Bennet', 'Jane Bennet', '...</td>\n",
       "      <td>Paperback</td>\n",
       "      <td>Modern Library Classics, USA / CAN</td>\n",
       "      <td>279</td>\n",
       "      <td>Modern Library</td>\n",
       "      <td>10/10/00</td>\n",
       "      <td>01/28/13</td>\n",
       "      <td>[]</td>\n",
       "      <td>2998241</td>\n",
       "      <td>['1617567', '816659', '373311', '113934', '767...</td>\n",
       "      <td>94.0</td>\n",
       "      <td>['United Kingdom', 'Derbyshire, England (Unite...</td>\n",
       "      <td>https://i.gr-assets.com/images/S/compressed.ph...</td>\n",
       "      <td>1983116</td>\n",
       "      <td>20452</td>\n",
       "      <td>NaN</td>\n",
       "    </tr>\n",
       "    <tr>\n",
       "      <th>4</th>\n",
       "      <td>41865.Twilight</td>\n",
       "      <td>Twilight</td>\n",
       "      <td>The Twilight Saga #1</td>\n",
       "      <td>Stephenie Meyer</td>\n",
       "      <td>3.60</td>\n",
       "      <td>About three things I was absolutely positive.\\...</td>\n",
       "      <td>English</td>\n",
       "      <td>9780316015844</td>\n",
       "      <td>['Young Adult', 'Fantasy', 'Romance', 'Vampire...</td>\n",
       "      <td>['Edward Cullen', 'Jacob Black', 'Laurent', 'R...</td>\n",
       "      <td>Paperback</td>\n",
       "      <td>NaN</td>\n",
       "      <td>501</td>\n",
       "      <td>Little, Brown and Company</td>\n",
       "      <td>09/06/06</td>\n",
       "      <td>10/05/05</td>\n",
       "      <td>['Georgia Peach Book Award (2007)', 'Buxtehude...</td>\n",
       "      <td>4964519</td>\n",
       "      <td>['1751460', '1113682', '1008686', '542017', '5...</td>\n",
       "      <td>78.0</td>\n",
       "      <td>['Forks, Washington (United States)', 'Phoenix...</td>\n",
       "      <td>https://i.gr-assets.com/images/S/compressed.ph...</td>\n",
       "      <td>1459448</td>\n",
       "      <td>14874</td>\n",
       "      <td>2.1</td>\n",
       "    </tr>\n",
       "    <tr>\n",
       "      <th>...</th>\n",
       "      <td>...</td>\n",
       "      <td>...</td>\n",
       "      <td>...</td>\n",
       "      <td>...</td>\n",
       "      <td>...</td>\n",
       "      <td>...</td>\n",
       "      <td>...</td>\n",
       "      <td>...</td>\n",
       "      <td>...</td>\n",
       "      <td>...</td>\n",
       "      <td>...</td>\n",
       "      <td>...</td>\n",
       "      <td>...</td>\n",
       "      <td>...</td>\n",
       "      <td>...</td>\n",
       "      <td>...</td>\n",
       "      <td>...</td>\n",
       "      <td>...</td>\n",
       "      <td>...</td>\n",
       "      <td>...</td>\n",
       "      <td>...</td>\n",
       "      <td>...</td>\n",
       "      <td>...</td>\n",
       "      <td>...</td>\n",
       "      <td>...</td>\n",
       "    </tr>\n",
       "    <tr>\n",
       "      <th>52473</th>\n",
       "      <td>11492014-fractured</td>\n",
       "      <td>Fractured</td>\n",
       "      <td>Fateful #2</td>\n",
       "      <td>Cheri Schmidt (Goodreads Author)</td>\n",
       "      <td>4.00</td>\n",
       "      <td>The Fateful Trilogy continues with Fractured. ...</td>\n",
       "      <td>English</td>\n",
       "      <td>2940012616562</td>\n",
       "      <td>['Vampires', 'Paranormal', 'Young Adult', 'Rom...</td>\n",
       "      <td>[]</td>\n",
       "      <td>Nook</td>\n",
       "      <td>NaN</td>\n",
       "      <td>0</td>\n",
       "      <td>Cheri Schmidt</td>\n",
       "      <td>May 28th 2011</td>\n",
       "      <td>NaN</td>\n",
       "      <td>[]</td>\n",
       "      <td>871</td>\n",
       "      <td>['311', '310', '197', '42', '11']</td>\n",
       "      <td>94.0</td>\n",
       "      <td>[]</td>\n",
       "      <td>https://i.gr-assets.com/images/S/compressed.ph...</td>\n",
       "      <td>0</td>\n",
       "      <td>1</td>\n",
       "      <td>NaN</td>\n",
       "    </tr>\n",
       "    <tr>\n",
       "      <th>52474</th>\n",
       "      <td>11836711-anasazi</td>\n",
       "      <td>Anasazi</td>\n",
       "      <td>Sense of Truth #2</td>\n",
       "      <td>Emma Michaels</td>\n",
       "      <td>4.19</td>\n",
       "      <td>'Anasazi', sequel to 'The Thirteenth Chime' by...</td>\n",
       "      <td>English</td>\n",
       "      <td>9999999999999</td>\n",
       "      <td>['Mystery', 'Young Adult']</td>\n",
       "      <td>[]</td>\n",
       "      <td>Paperback</td>\n",
       "      <td>First Edition</td>\n",
       "      <td>190</td>\n",
       "      <td>Bokheim Publishing</td>\n",
       "      <td>August 5th 2011</td>\n",
       "      <td>August 3rd 2011</td>\n",
       "      <td>[]</td>\n",
       "      <td>37</td>\n",
       "      <td>['16', '14', '5', '2', '0']</td>\n",
       "      <td>95.0</td>\n",
       "      <td>[]</td>\n",
       "      <td>https://i.gr-assets.com/images/S/compressed.ph...</td>\n",
       "      <td>0</td>\n",
       "      <td>1</td>\n",
       "      <td>NaN</td>\n",
       "    </tr>\n",
       "    <tr>\n",
       "      <th>52475</th>\n",
       "      <td>10815662-marked</td>\n",
       "      <td>Marked</td>\n",
       "      <td>Soul Guardians #1</td>\n",
       "      <td>Kim Richardson (Goodreads Author)</td>\n",
       "      <td>3.70</td>\n",
       "      <td>--READERS FAVORITE AWARDS WINNER 2011--Sixteen...</td>\n",
       "      <td>English</td>\n",
       "      <td>9781461017097</td>\n",
       "      <td>['Fantasy', 'Young Adult', 'Paranormal', 'Ange...</td>\n",
       "      <td>[]</td>\n",
       "      <td>Paperback</td>\n",
       "      <td>NaN</td>\n",
       "      <td>280</td>\n",
       "      <td>CreateSpace</td>\n",
       "      <td>March 18th 2011</td>\n",
       "      <td>March 15th 2011</td>\n",
       "      <td>[\"Readers' Favorite Book Award (2011)\"]</td>\n",
       "      <td>6674</td>\n",
       "      <td>['2109', '1868', '1660', '647', '390']</td>\n",
       "      <td>84.0</td>\n",
       "      <td>[]</td>\n",
       "      <td>https://i.gr-assets.com/images/S/compressed.ph...</td>\n",
       "      <td>0</td>\n",
       "      <td>1</td>\n",
       "      <td>7.37</td>\n",
       "    </tr>\n",
       "    <tr>\n",
       "      <th>52476</th>\n",
       "      <td>11330278-wayward-son</td>\n",
       "      <td>Wayward Son</td>\n",
       "      <td>NaN</td>\n",
       "      <td>Tom Pollack (Goodreads Author), John Loftus (G...</td>\n",
       "      <td>3.85</td>\n",
       "      <td>A POWERFUL TREMOR UNEARTHS AN ANCIENT SECRETBu...</td>\n",
       "      <td>English</td>\n",
       "      <td>9781450755634</td>\n",
       "      <td>['Fiction', 'Mystery', 'Historical Fiction', '...</td>\n",
       "      <td>[]</td>\n",
       "      <td>Paperback</td>\n",
       "      <td>1st edition</td>\n",
       "      <td>507</td>\n",
       "      <td>Cascada Productions</td>\n",
       "      <td>September 1st 2011</td>\n",
       "      <td>April 5th 2011</td>\n",
       "      <td>[]</td>\n",
       "      <td>238</td>\n",
       "      <td>['77', '78', '59', '19', '5']</td>\n",
       "      <td>90.0</td>\n",
       "      <td>[]</td>\n",
       "      <td>https://i.gr-assets.com/images/S/compressed.ph...</td>\n",
       "      <td>0</td>\n",
       "      <td>1</td>\n",
       "      <td>2.86</td>\n",
       "    </tr>\n",
       "    <tr>\n",
       "      <th>52477</th>\n",
       "      <td>10991547-daughter-of-helaman</td>\n",
       "      <td>Daughter of Helaman</td>\n",
       "      <td>Stripling Warrior #1</td>\n",
       "      <td>Misty Moncur (Goodreads Author)</td>\n",
       "      <td>4.02</td>\n",
       "      <td>Fighting in Helaman's army is Keturah's deepes...</td>\n",
       "      <td>English</td>\n",
       "      <td>9781599554976</td>\n",
       "      <td>['Lds Fiction', 'Historical Fiction', 'Young A...</td>\n",
       "      <td>[]</td>\n",
       "      <td>Paperback</td>\n",
       "      <td>NaN</td>\n",
       "      <td>201</td>\n",
       "      <td>Bonneville</td>\n",
       "      <td>May 8th 2011</td>\n",
       "      <td>NaN</td>\n",
       "      <td>[]</td>\n",
       "      <td>246</td>\n",
       "      <td>['106', '73', '42', '17', '8']</td>\n",
       "      <td>90.0</td>\n",
       "      <td>[]</td>\n",
       "      <td>https://i.gr-assets.com/images/S/compressed.ph...</td>\n",
       "      <td>0</td>\n",
       "      <td>1</td>\n",
       "      <td>5.20</td>\n",
       "    </tr>\n",
       "  </tbody>\n",
       "</table>\n",
       "<p>52478 rows × 25 columns</p>\n",
       "</div>"
      ],
      "text/plain": [
       "                                            bookId  \\\n",
       "0                         2767052-the-hunger-games   \n",
       "1      2.Harry_Potter_and_the_Order_of_the_Phoenix   \n",
       "2                       2657.To_Kill_a_Mockingbird   \n",
       "3                         1885.Pride_and_Prejudice   \n",
       "4                                   41865.Twilight   \n",
       "...                                            ...   \n",
       "52473                           11492014-fractured   \n",
       "52474                             11836711-anasazi   \n",
       "52475                              10815662-marked   \n",
       "52476                         11330278-wayward-son   \n",
       "52477                 10991547-daughter-of-helaman   \n",
       "\n",
       "                                           title                 series  \\\n",
       "0                               The Hunger Games    The Hunger Games #1   \n",
       "1      Harry Potter and the Order of the Phoenix        Harry Potter #5   \n",
       "2                          To Kill a Mockingbird  To Kill a Mockingbird   \n",
       "3                            Pride and Prejudice                    NaN   \n",
       "4                                       Twilight   The Twilight Saga #1   \n",
       "...                                          ...                    ...   \n",
       "52473                                  Fractured             Fateful #2   \n",
       "52474                                    Anasazi      Sense of Truth #2   \n",
       "52475                                     Marked      Soul Guardians #1   \n",
       "52476                                Wayward Son                    NaN   \n",
       "52477                        Daughter of Helaman   Stripling Warrior #1   \n",
       "\n",
       "                                                  author  rating  \\\n",
       "0                                        Suzanne Collins    4.33   \n",
       "1              J.K. Rowling, Mary GrandPré (Illustrator)    4.50   \n",
       "2                                             Harper Lee    4.28   \n",
       "3              Jane Austen, Anna Quindlen (Introduction)    4.26   \n",
       "4                                        Stephenie Meyer    3.60   \n",
       "...                                                  ...     ...   \n",
       "52473                   Cheri Schmidt (Goodreads Author)    4.00   \n",
       "52474                                      Emma Michaels    4.19   \n",
       "52475                  Kim Richardson (Goodreads Author)    3.70   \n",
       "52476  Tom Pollack (Goodreads Author), John Loftus (G...    3.85   \n",
       "52477                    Misty Moncur (Goodreads Author)    4.02   \n",
       "\n",
       "                                             description language  \\\n",
       "0      WINNING MEANS FAME AND FORTUNE.LOSING MEANS CE...  English   \n",
       "1      There is a door at the end of a silent corrido...  English   \n",
       "2      The unforgettable novel of a childhood in a sl...  English   \n",
       "3      Alternate cover edition of ISBN 9780679783268S...  English   \n",
       "4      About three things I was absolutely positive.\\...  English   \n",
       "...                                                  ...      ...   \n",
       "52473  The Fateful Trilogy continues with Fractured. ...  English   \n",
       "52474  'Anasazi', sequel to 'The Thirteenth Chime' by...  English   \n",
       "52475  --READERS FAVORITE AWARDS WINNER 2011--Sixteen...  English   \n",
       "52476  A POWERFUL TREMOR UNEARTHS AN ANCIENT SECRETBu...  English   \n",
       "52477  Fighting in Helaman's army is Keturah's deepes...  English   \n",
       "\n",
       "                isbn                                             genres  \\\n",
       "0      9780439023481  ['Young Adult', 'Fiction', 'Dystopia', 'Fantas...   \n",
       "1      9780439358071  ['Fantasy', 'Young Adult', 'Fiction', 'Magic',...   \n",
       "2      9999999999999  ['Classics', 'Fiction', 'Historical Fiction', ...   \n",
       "3      9999999999999  ['Classics', 'Fiction', 'Romance', 'Historical...   \n",
       "4      9780316015844  ['Young Adult', 'Fantasy', 'Romance', 'Vampire...   \n",
       "...              ...                                                ...   \n",
       "52473  2940012616562  ['Vampires', 'Paranormal', 'Young Adult', 'Rom...   \n",
       "52474  9999999999999                         ['Mystery', 'Young Adult']   \n",
       "52475  9781461017097  ['Fantasy', 'Young Adult', 'Paranormal', 'Ange...   \n",
       "52476  9781450755634  ['Fiction', 'Mystery', 'Historical Fiction', '...   \n",
       "52477  9781599554976  ['Lds Fiction', 'Historical Fiction', 'Young A...   \n",
       "\n",
       "                                              characters bookFormat  \\\n",
       "0      ['Katniss Everdeen', 'Peeta Mellark', 'Cato (H...  Hardcover   \n",
       "1      ['Sirius Black', 'Draco Malfoy', 'Ron Weasley'...  Paperback   \n",
       "2      ['Scout Finch', 'Atticus Finch', 'Jem Finch', ...  Paperback   \n",
       "3      ['Mr. Bennet', 'Mrs. Bennet', 'Jane Bennet', '...  Paperback   \n",
       "4      ['Edward Cullen', 'Jacob Black', 'Laurent', 'R...  Paperback   \n",
       "...                                                  ...        ...   \n",
       "52473                                                 []       Nook   \n",
       "52474                                                 []  Paperback   \n",
       "52475                                                 []  Paperback   \n",
       "52476                                                 []  Paperback   \n",
       "52477                                                 []  Paperback   \n",
       "\n",
       "                                  edition pages  \\\n",
       "0                           First Edition   374   \n",
       "1                              US Edition   870   \n",
       "2                                     NaN   324   \n",
       "3      Modern Library Classics, USA / CAN   279   \n",
       "4                                     NaN   501   \n",
       "...                                   ...   ...   \n",
       "52473                                 NaN     0   \n",
       "52474                       First Edition   190   \n",
       "52475                                 NaN   280   \n",
       "52476                         1st edition   507   \n",
       "52477                                 NaN   201   \n",
       "\n",
       "                              publisher         publishDate firstPublishDate  \\\n",
       "0                      Scholastic Press            09/14/08              NaN   \n",
       "1                       Scholastic Inc.            09/28/04         06/21/03   \n",
       "2      Harper Perennial Modern Classics            05/23/06         07/11/60   \n",
       "3                        Modern Library            10/10/00         01/28/13   \n",
       "4             Little, Brown and Company            09/06/06         10/05/05   \n",
       "...                                 ...                 ...              ...   \n",
       "52473                     Cheri Schmidt       May 28th 2011              NaN   \n",
       "52474                Bokheim Publishing     August 5th 2011  August 3rd 2011   \n",
       "52475                       CreateSpace     March 18th 2011  March 15th 2011   \n",
       "52476               Cascada Productions  September 1st 2011   April 5th 2011   \n",
       "52477                        Bonneville        May 8th 2011              NaN   \n",
       "\n",
       "                                                  awards  numRatings  \\\n",
       "0      ['Locus Award Nominee for Best Young Adult Boo...     6376780   \n",
       "1      ['Bram Stoker Award for Works for Young Reader...     2507623   \n",
       "2      ['Pulitzer Prize for Fiction (1961)', 'Audie A...     4501075   \n",
       "3                                                     []     2998241   \n",
       "4      ['Georgia Peach Book Award (2007)', 'Buxtehude...     4964519   \n",
       "...                                                  ...         ...   \n",
       "52473                                                 []         871   \n",
       "52474                                                 []          37   \n",
       "52475            [\"Readers' Favorite Book Award (2011)\"]        6674   \n",
       "52476                                                 []         238   \n",
       "52477                                                 []         246   \n",
       "\n",
       "                                          ratingsByStars  likedPercent  \\\n",
       "0      ['3444695', '1921313', '745221', '171994', '93...          96.0   \n",
       "1      ['1593642', '637516', '222366', '39573', '14526']          98.0   \n",
       "2      ['2363896', '1333153', '573280', '149952', '80...          95.0   \n",
       "3      ['1617567', '816659', '373311', '113934', '767...          94.0   \n",
       "4      ['1751460', '1113682', '1008686', '542017', '5...          78.0   \n",
       "...                                                  ...           ...   \n",
       "52473                  ['311', '310', '197', '42', '11']          94.0   \n",
       "52474                        ['16', '14', '5', '2', '0']          95.0   \n",
       "52475             ['2109', '1868', '1660', '647', '390']          84.0   \n",
       "52476                      ['77', '78', '59', '19', '5']          90.0   \n",
       "52477                     ['106', '73', '42', '17', '8']          90.0   \n",
       "\n",
       "                                                 setting  \\\n",
       "0      ['District 12, Panem', 'Capitol, Panem', 'Pane...   \n",
       "1      ['Hogwarts School of Witchcraft and Wizardry (...   \n",
       "2                   ['Maycomb, Alabama (United States)']   \n",
       "3      ['United Kingdom', 'Derbyshire, England (Unite...   \n",
       "4      ['Forks, Washington (United States)', 'Phoenix...   \n",
       "...                                                  ...   \n",
       "52473                                                 []   \n",
       "52474                                                 []   \n",
       "52475                                                 []   \n",
       "52476                                                 []   \n",
       "52477                                                 []   \n",
       "\n",
       "                                                coverImg  bbeScore  bbeVotes  \\\n",
       "0      https://i.gr-assets.com/images/S/compressed.ph...   2993816     30516   \n",
       "1      https://i.gr-assets.com/images/S/compressed.ph...   2632233     26923   \n",
       "2      https://i.gr-assets.com/images/S/compressed.ph...   2269402     23328   \n",
       "3      https://i.gr-assets.com/images/S/compressed.ph...   1983116     20452   \n",
       "4      https://i.gr-assets.com/images/S/compressed.ph...   1459448     14874   \n",
       "...                                                  ...       ...       ...   \n",
       "52473  https://i.gr-assets.com/images/S/compressed.ph...         0         1   \n",
       "52474  https://i.gr-assets.com/images/S/compressed.ph...         0         1   \n",
       "52475  https://i.gr-assets.com/images/S/compressed.ph...         0         1   \n",
       "52476  https://i.gr-assets.com/images/S/compressed.ph...         0         1   \n",
       "52477  https://i.gr-assets.com/images/S/compressed.ph...         0         1   \n",
       "\n",
       "      price  \n",
       "0      5.09  \n",
       "1      7.38  \n",
       "2       NaN  \n",
       "3       NaN  \n",
       "4       2.1  \n",
       "...     ...  \n",
       "52473   NaN  \n",
       "52474   NaN  \n",
       "52475  7.37  \n",
       "52476  2.86  \n",
       "52477  5.20  \n",
       "\n",
       "[52478 rows x 25 columns]"
      ]
     },
     "execution_count": 2,
     "metadata": {},
     "output_type": "execute_result"
    }
   ],
   "source": [
    "df = pd.read_csv('books_1.Best_Books_Ever.csv') \n",
    "df"
   ]
  },
  {
   "cell_type": "markdown",
   "id": "6097c474",
   "metadata": {},
   "source": [
    "## We fisrt look which columns are relevant and which are not, which we keep as they are and which we can modify"
   ]
  },
  {
   "cell_type": "code",
   "execution_count": 3,
   "id": "7cce0aba",
   "metadata": {},
   "outputs": [
    {
     "data": {
      "text/plain": [
       "bookId                  0\n",
       "title                   0\n",
       "series              29008\n",
       "author                  0\n",
       "rating                  0\n",
       "description          1338\n",
       "language             3806\n",
       "isbn                    0\n",
       "genres                  0\n",
       "characters              0\n",
       "bookFormat           1473\n",
       "edition             47523\n",
       "pages                2347\n",
       "publisher            3696\n",
       "publishDate           880\n",
       "firstPublishDate    21326\n",
       "awards                  0\n",
       "numRatings              0\n",
       "ratingsByStars          0\n",
       "likedPercent          622\n",
       "setting                 0\n",
       "coverImg              605\n",
       "bbeScore                0\n",
       "bbeVotes                0\n",
       "price               14365\n",
       "dtype: int64"
      ]
     },
     "execution_count": 3,
     "metadata": {},
     "output_type": "execute_result"
    }
   ],
   "source": [
    "df.isna().sum()"
   ]
  },
  {
   "cell_type": "code",
   "execution_count": 4,
   "id": "43a91b21",
   "metadata": {},
   "outputs": [
    {
     "data": {
      "text/plain": [
       "bookId              52424\n",
       "title               49927\n",
       "series              22802\n",
       "author              28227\n",
       "rating                261\n",
       "description         50888\n",
       "language               81\n",
       "isbn                48072\n",
       "genres              44154\n",
       "characters          12448\n",
       "bookFormat            136\n",
       "edition              1788\n",
       "pages                1365\n",
       "publisher           11110\n",
       "publishDate         10635\n",
       "firstPublishDate     8024\n",
       "awards               9215\n",
       "numRatings          19347\n",
       "ratingsByStars      49908\n",
       "likedPercent           66\n",
       "setting              4651\n",
       "coverImg            51819\n",
       "bbeScore             3541\n",
       "bbeVotes              649\n",
       "price                3776\n",
       "dtype: int64"
      ]
     },
     "execution_count": 4,
     "metadata": {},
     "output_type": "execute_result"
    }
   ],
   "source": [
    "df.nunique()"
   ]
  },
  {
   "cell_type": "code",
   "execution_count": 5,
   "id": "4bfa108e",
   "metadata": {},
   "outputs": [
    {
     "data": {
      "text/plain": [
       "bookId               object\n",
       "title                object\n",
       "series               object\n",
       "author               object\n",
       "rating              float64\n",
       "description          object\n",
       "language             object\n",
       "isbn                 object\n",
       "genres               object\n",
       "characters           object\n",
       "bookFormat           object\n",
       "edition              object\n",
       "pages                object\n",
       "publisher            object\n",
       "publishDate          object\n",
       "firstPublishDate     object\n",
       "awards               object\n",
       "numRatings            int64\n",
       "ratingsByStars       object\n",
       "likedPercent        float64\n",
       "setting              object\n",
       "coverImg             object\n",
       "bbeScore              int64\n",
       "bbeVotes              int64\n",
       "price                object\n",
       "dtype: object"
      ]
     },
     "execution_count": 5,
     "metadata": {},
     "output_type": "execute_result"
    }
   ],
   "source": [
    "df.dtypes"
   ]
  },
  {
   "cell_type": "markdown",
   "id": "d9f7a97e",
   "metadata": {},
   "source": [
    "#### Not relevant :\n",
    "- 'description' column since it's quite only unique string values\n",
    "- 'isbn' is a unique value for each book, it's not relevant \n",
    "- 'characters' are different for each book, we drop it\n",
    "- 'edition' to many unique values\n",
    "- 'setting' to many unique values and NaN\n",
    "- 'coverImg', just the url of book cover\n",
    "\n",
    "#### Keep as it is :\n",
    "- 'bookID' \n",
    "- 'title' \n",
    "- 'author'\n",
    "- 'rating' is our target\n",
    "- 'language' \n",
    "- 'genre'\n",
    "- 'bookFormat'\n",
    "- 'pages'\n",
    "- 'publisher'\n",
    "- 'numRatings'\n",
    "- 'likedPercent'\n",
    "- 'bbeScore' \n",
    "- 'bbeVotes'\n",
    "\n",
    "#### Rearange :\n",
    "- 'series' yes if something oherwise no\n",
    "- 'pages' into int\n",
    "- 'publishDate' into datetime format and bins\n",
    "- 'firstPublishDate' into datetime format and bins\n",
    "- 'awards' yes/no (1/0)\n",
    "- 'ratingsByStars' 5 column into int\n",
    "- 'price' into float"
   ]
  },
  {
   "cell_type": "code",
   "execution_count": 6,
   "id": "a52fbe92",
   "metadata": {},
   "outputs": [
    {
     "data": {
      "text/plain": [
       "Index(['bookId', 'title', 'series', 'author', 'rating', 'description',\n",
       "       'language', 'isbn', 'genres', 'characters', 'bookFormat', 'edition',\n",
       "       'pages', 'publisher', 'publishDate', 'firstPublishDate', 'awards',\n",
       "       'numRatings', 'ratingsByStars', 'likedPercent', 'setting', 'coverImg',\n",
       "       'bbeScore', 'bbeVotes', 'price'],\n",
       "      dtype='object')"
      ]
     },
     "execution_count": 6,
     "metadata": {},
     "output_type": "execute_result"
    }
   ],
   "source": [
    "df.columns"
   ]
  },
  {
   "cell_type": "markdown",
   "id": "0208a483",
   "metadata": {},
   "source": [
    "## We now replace the NaN values for the relevant columns and do the other necessary changes"
   ]
  },
  {
   "cell_type": "markdown",
   "id": "26c840d3",
   "metadata": {},
   "source": [
    "### 1. Series"
   ]
  },
  {
   "cell_type": "code",
   "execution_count": 7,
   "id": "3d121ebd",
   "metadata": {},
   "outputs": [
    {
     "data": {
      "text/plain": [
       "Star Wars Legends                 15\n",
       "Sherlock Holmes                   13\n",
       "Dear America                      12\n",
       "The Society On Da Run             11\n",
       "Duluoz Legend                     10\n",
       "                                  ..\n",
       "Cotton Malone #1                   1\n",
       "Dirk Pitt #19                      1\n",
       "Incarnations of Immortality #3     1\n",
       "Bad Kitty #1                       1\n",
       "Stripling Warrior #1               1\n",
       "Name: series, Length: 22802, dtype: int64"
      ]
     },
     "execution_count": 7,
     "metadata": {},
     "output_type": "execute_result"
    }
   ],
   "source": [
    "df['series'].value_counts() \n"
   ]
  },
  {
   "cell_type": "markdown",
   "id": "cd119cef",
   "metadata": {},
   "source": [
    "Some values have the number of appearance in the serie but others do not. If they had all had the number, we could have kept only the number, but as this is not the case, we'll replace with 'yes' for books belonging to a series and 'no' for NaN values."
   ]
  },
  {
   "cell_type": "code",
   "execution_count": 8,
   "id": "90c500da",
   "metadata": {},
   "outputs": [
    {
     "data": {
      "text/plain": [
       "No     29008\n",
       "Yes    23470\n",
       "Name: series, dtype: int64"
      ]
     },
     "execution_count": 8,
     "metadata": {},
     "output_type": "execute_result"
    }
   ],
   "source": [
    "df['series']= df['series'].fillna('No')\n",
    "\n",
    "df['series'] = np.where(df['series'] == 'No', 'No', 'Yes')\n",
    "\n",
    "df['series'].value_counts(dropna=False) \n"
   ]
  },
  {
   "cell_type": "markdown",
   "id": "30dcd569",
   "metadata": {},
   "source": [
    "### 2. Language"
   ]
  },
  {
   "cell_type": "code",
   "execution_count": 9,
   "id": "1b4fe0e3",
   "metadata": {},
   "outputs": [
    {
     "data": {
      "text/plain": [
       "English                                  42661\n",
       "NaN                                       3806\n",
       "Arabic                                    1038\n",
       "Spanish                                    687\n",
       "French                                     579\n",
       "                                         ...  \n",
       "Aromanian; Arumanian; Macedo-Romanian        1\n",
       "Basque                                       1\n",
       "Faroese                                      1\n",
       "Iranian (Other)                              1\n",
       "Norwegian Nynorsk; Nynorsk, Norwegian        1\n",
       "Name: language, Length: 82, dtype: int64"
      ]
     },
     "execution_count": 9,
     "metadata": {},
     "output_type": "execute_result"
    }
   ],
   "source": [
    "df['language'].value_counts(dropna=False) \n",
    "\n"
   ]
  },
  {
   "cell_type": "code",
   "execution_count": 10,
   "id": "2aa804cc",
   "metadata": {},
   "outputs": [
    {
     "data": {
      "text/html": [
       "<div>\n",
       "<style scoped>\n",
       "    .dataframe tbody tr th:only-of-type {\n",
       "        vertical-align: middle;\n",
       "    }\n",
       "\n",
       "    .dataframe tbody tr th {\n",
       "        vertical-align: top;\n",
       "    }\n",
       "\n",
       "    .dataframe thead th {\n",
       "        text-align: right;\n",
       "    }\n",
       "</style>\n",
       "<table border=\"1\" class=\"dataframe\">\n",
       "  <thead>\n",
       "    <tr style=\"text-align: right;\">\n",
       "      <th></th>\n",
       "      <th>bookId</th>\n",
       "      <th>title</th>\n",
       "      <th>series</th>\n",
       "      <th>author</th>\n",
       "      <th>rating</th>\n",
       "      <th>description</th>\n",
       "      <th>language</th>\n",
       "      <th>isbn</th>\n",
       "      <th>genres</th>\n",
       "      <th>characters</th>\n",
       "      <th>bookFormat</th>\n",
       "      <th>edition</th>\n",
       "      <th>pages</th>\n",
       "      <th>publisher</th>\n",
       "      <th>publishDate</th>\n",
       "      <th>firstPublishDate</th>\n",
       "      <th>awards</th>\n",
       "      <th>numRatings</th>\n",
       "      <th>ratingsByStars</th>\n",
       "      <th>likedPercent</th>\n",
       "      <th>setting</th>\n",
       "      <th>coverImg</th>\n",
       "      <th>bbeScore</th>\n",
       "      <th>bbeVotes</th>\n",
       "      <th>price</th>\n",
       "    </tr>\n",
       "  </thead>\n",
       "  <tbody>\n",
       "    <tr>\n",
       "      <th>503</th>\n",
       "      <td>34521870-mistress-suffragette</td>\n",
       "      <td>Mistress Suffragette</td>\n",
       "      <td>No</td>\n",
       "      <td>Diana Forbes (Goodreads Author)</td>\n",
       "      <td>4.34</td>\n",
       "      <td>\\n  A young woman without prospects at a ball ...</td>\n",
       "      <td>NaN</td>\n",
       "      <td>B06XG3G2TF</td>\n",
       "      <td>['Fiction', 'Novels', 'Historical Fiction', 'D...</td>\n",
       "      <td>[]</td>\n",
       "      <td>Kindle Edition</td>\n",
       "      <td>NaN</td>\n",
       "      <td>333</td>\n",
       "      <td>Penmore Press LLC</td>\n",
       "      <td>03/05/17</td>\n",
       "      <td>NaN</td>\n",
       "      <td>[]</td>\n",
       "      <td>7647</td>\n",
       "      <td>['3553', '3422', '466', '140', '66']</td>\n",
       "      <td>97.0</td>\n",
       "      <td>[]</td>\n",
       "      <td>https://i.gr-assets.com/images/S/compressed.ph...</td>\n",
       "      <td>18215</td>\n",
       "      <td>203</td>\n",
       "      <td>NaN</td>\n",
       "    </tr>\n",
       "    <tr>\n",
       "      <th>570</th>\n",
       "      <td>36236125-invisible-monsters</td>\n",
       "      <td>Invisible Monsters</td>\n",
       "      <td>No</td>\n",
       "      <td>Chuck Palahniuk (Goodreads Author)</td>\n",
       "      <td>3.98</td>\n",
       "      <td>She's a catwalk model who has everything: a bo...</td>\n",
       "      <td>NaN</td>\n",
       "      <td>9780393355956</td>\n",
       "      <td>['Fiction', 'Contemporary', 'Thriller', 'Myste...</td>\n",
       "      <td>['Shannon McFarland', 'Brandy Alexander', 'Evi...</td>\n",
       "      <td>Paperback</td>\n",
       "      <td>NaN</td>\n",
       "      <td>304</td>\n",
       "      <td>W. W. Norton Company</td>\n",
       "      <td>05/01/18</td>\n",
       "      <td>09/17/99</td>\n",
       "      <td>[]</td>\n",
       "      <td>128254</td>\n",
       "      <td>['47150', '45163', '25392', '7675', '2874']</td>\n",
       "      <td>92.0</td>\n",
       "      <td>[]</td>\n",
       "      <td>https://i.gr-assets.com/images/S/compressed.ph...</td>\n",
       "      <td>15186</td>\n",
       "      <td>181</td>\n",
       "      <td>6.53</td>\n",
       "    </tr>\n",
       "    <tr>\n",
       "      <th>645</th>\n",
       "      <td>38311414-house-of-sand-and-fog</td>\n",
       "      <td>House of Sand and Fog</td>\n",
       "      <td>No</td>\n",
       "      <td>Andre Dubus III</td>\n",
       "      <td>3.85</td>\n",
       "      <td>In this “page-turner with a beating heart” (Bo...</td>\n",
       "      <td>NaN</td>\n",
       "      <td>9780393356342</td>\n",
       "      <td>['Fiction', 'Contemporary', 'Literary Fiction'...</td>\n",
       "      <td>['Colonel Behrani', 'Kathy Nicolo', 'Sheriff L...</td>\n",
       "      <td>Paperback</td>\n",
       "      <td>NaN</td>\n",
       "      <td>368</td>\n",
       "      <td>W. W. Norton Company</td>\n",
       "      <td>10/02/18</td>\n",
       "      <td>10/28/99</td>\n",
       "      <td>['Los Angeles Times Book Prize Nominee for Fic...</td>\n",
       "      <td>125230</td>\n",
       "      <td>['38141', '46256', '28560', '8447', '3826']</td>\n",
       "      <td>90.0</td>\n",
       "      <td>['California (United States)']</td>\n",
       "      <td>https://i.gr-assets.com/images/S/compressed.ph...</td>\n",
       "      <td>12262</td>\n",
       "      <td>176</td>\n",
       "      <td>2.86</td>\n",
       "    </tr>\n",
       "    <tr>\n",
       "      <th>703</th>\n",
       "      <td>41423092-the-awakening</td>\n",
       "      <td>The Awakening: Fate in Motion</td>\n",
       "      <td>No</td>\n",
       "      <td>Suzanne Boisvert (Goodreads Author)</td>\n",
       "      <td>4.31</td>\n",
       "      <td>Exiled from Earth thousands of years ago, Sar ...</td>\n",
       "      <td>NaN</td>\n",
       "      <td>B07GNSZH8M</td>\n",
       "      <td>['Contemporary', 'Drama', 'Book Club', 'Fictio...</td>\n",
       "      <td>[]</td>\n",
       "      <td>Kindle Edition</td>\n",
       "      <td>NaN</td>\n",
       "      <td>331</td>\n",
       "      <td>NaN</td>\n",
       "      <td>09/15/18</td>\n",
       "      <td>NaN</td>\n",
       "      <td>[]</td>\n",
       "      <td>6682</td>\n",
       "      <td>['3045', '3031', '329', '206', '71']</td>\n",
       "      <td>96.0</td>\n",
       "      <td>[]</td>\n",
       "      <td>https://i.gr-assets.com/images/S/compressed.ph...</td>\n",
       "      <td>10611</td>\n",
       "      <td>118</td>\n",
       "      <td>NaN</td>\n",
       "    </tr>\n",
       "    <tr>\n",
       "      <th>751</th>\n",
       "      <td>7770.One_Fish_Two_Fish_Red_Fish_Blue_Fish</td>\n",
       "      <td>One Fish, Two Fish, Red Fish, Blue Fish</td>\n",
       "      <td>No</td>\n",
       "      <td>Dr. Seuss (Reader)</td>\n",
       "      <td>4.13</td>\n",
       "      <td>One Fish Two Fish Red Fish Blue Fish is a 1960...</td>\n",
       "      <td>NaN</td>\n",
       "      <td>9780007173686</td>\n",
       "      <td>['Childrens', 'Picture Books', 'Fiction', 'Cla...</td>\n",
       "      <td>[]</td>\n",
       "      <td>Hardcover</td>\n",
       "      <td>NaN</td>\n",
       "      <td>64</td>\n",
       "      <td>Harper Collins Children's Books</td>\n",
       "      <td>10/06/03</td>\n",
       "      <td>10/28/60</td>\n",
       "      <td>[]</td>\n",
       "      <td>165623</td>\n",
       "      <td>['81438', '41473', '30307', '8407', '3998']</td>\n",
       "      <td>93.0</td>\n",
       "      <td>[]</td>\n",
       "      <td>https://i.gr-assets.com/images/S/compressed.ph...</td>\n",
       "      <td>9731</td>\n",
       "      <td>163</td>\n",
       "      <td>NaN</td>\n",
       "    </tr>\n",
       "    <tr>\n",
       "      <th>...</th>\n",
       "      <td>...</td>\n",
       "      <td>...</td>\n",
       "      <td>...</td>\n",
       "      <td>...</td>\n",
       "      <td>...</td>\n",
       "      <td>...</td>\n",
       "      <td>...</td>\n",
       "      <td>...</td>\n",
       "      <td>...</td>\n",
       "      <td>...</td>\n",
       "      <td>...</td>\n",
       "      <td>...</td>\n",
       "      <td>...</td>\n",
       "      <td>...</td>\n",
       "      <td>...</td>\n",
       "      <td>...</td>\n",
       "      <td>...</td>\n",
       "      <td>...</td>\n",
       "      <td>...</td>\n",
       "      <td>...</td>\n",
       "      <td>...</td>\n",
       "      <td>...</td>\n",
       "      <td>...</td>\n",
       "      <td>...</td>\n",
       "      <td>...</td>\n",
       "    </tr>\n",
       "    <tr>\n",
       "      <th>52411</th>\n",
       "      <td>21691391-pixie-dust</td>\n",
       "      <td>Pixie Dust</td>\n",
       "      <td>Yes</td>\n",
       "      <td>Laura Lee (Goodreads Author)</td>\n",
       "      <td>3.79</td>\n",
       "      <td>*A lonesome fairy with no clue how to wield he...</td>\n",
       "      <td>NaN</td>\n",
       "      <td>9781465812780</td>\n",
       "      <td>['Fantasy', 'Paranormal', 'Paranormal Romance'...</td>\n",
       "      <td>[]</td>\n",
       "      <td>ebook</td>\n",
       "      <td>NaN</td>\n",
       "      <td>NaN</td>\n",
       "      <td>Laura Lee</td>\n",
       "      <td>December 31st 2011</td>\n",
       "      <td>NaN</td>\n",
       "      <td>[]</td>\n",
       "      <td>1373</td>\n",
       "      <td>['460', '424', '299', '115', '75']</td>\n",
       "      <td>86.0</td>\n",
       "      <td>[]</td>\n",
       "      <td>https://i.gr-assets.com/images/S/compressed.ph...</td>\n",
       "      <td>2</td>\n",
       "      <td>1</td>\n",
       "      <td>NaN</td>\n",
       "    </tr>\n",
       "    <tr>\n",
       "      <th>52416</th>\n",
       "      <td>23014216-when-i-fall</td>\n",
       "      <td>When I Fall</td>\n",
       "      <td>Yes</td>\n",
       "      <td>J. Daniels (Goodreads Author)</td>\n",
       "      <td>4.30</td>\n",
       "      <td>From New York Times bestselling author, J. Dan...</td>\n",
       "      <td>NaN</td>\n",
       "      <td>9999999999999</td>\n",
       "      <td>['Romance', 'New Adult', 'Contemporary Romance...</td>\n",
       "      <td>['Reed Tennyson', 'Beth Davis']</td>\n",
       "      <td>NaN</td>\n",
       "      <td>NaN</td>\n",
       "      <td>343</td>\n",
       "      <td>NaN</td>\n",
       "      <td>March 17th 2015</td>\n",
       "      <td>NaN</td>\n",
       "      <td>[]</td>\n",
       "      <td>12022</td>\n",
       "      <td>['5939', '4225', '1488', '256', '114']</td>\n",
       "      <td>97.0</td>\n",
       "      <td>['Ruxton, Alabama (United States)']</td>\n",
       "      <td>https://i.gr-assets.com/images/S/compressed.ph...</td>\n",
       "      <td>2</td>\n",
       "      <td>1</td>\n",
       "      <td>NaN</td>\n",
       "    </tr>\n",
       "    <tr>\n",
       "      <th>52429</th>\n",
       "      <td>20665259-did-god-really-command-genocide</td>\n",
       "      <td>Did God Really Command Genocide?: Coming to Te...</td>\n",
       "      <td>No</td>\n",
       "      <td>Paul Copan, Matt Flannagan</td>\n",
       "      <td>4.18</td>\n",
       "      <td>A common objection to belief in the God of the...</td>\n",
       "      <td>NaN</td>\n",
       "      <td>9780801016226</td>\n",
       "      <td>['Theology', 'Christian', 'Religion', 'Christi...</td>\n",
       "      <td>[]</td>\n",
       "      <td>Paperback</td>\n",
       "      <td>NaN</td>\n",
       "      <td>352</td>\n",
       "      <td>Baker Books</td>\n",
       "      <td>November 18th 2014</td>\n",
       "      <td>October 21st 2014</td>\n",
       "      <td>[]</td>\n",
       "      <td>114</td>\n",
       "      <td>['47', '47', '13', '7', '0']</td>\n",
       "      <td>94.0</td>\n",
       "      <td>[]</td>\n",
       "      <td>https://i.gr-assets.com/images/S/compressed.ph...</td>\n",
       "      <td>2</td>\n",
       "      <td>1</td>\n",
       "      <td>17.37</td>\n",
       "    </tr>\n",
       "    <tr>\n",
       "      <th>52454</th>\n",
       "      <td>13254398-au-petit-poil</td>\n",
       "      <td>Au Petit Poil</td>\n",
       "      <td>Yes</td>\n",
       "      <td>A.A. Fair</td>\n",
       "      <td>3.89</td>\n",
       "      <td>NaN</td>\n",
       "      <td>NaN</td>\n",
       "      <td>9782702427651</td>\n",
       "      <td>['Mystery', 'Fiction', 'Detective']</td>\n",
       "      <td>['Bertha Cool', 'Donald Lam']</td>\n",
       "      <td>NaN</td>\n",
       "      <td>NaN</td>\n",
       "      <td>154</td>\n",
       "      <td>Librairie des Champs-Elysées</td>\n",
       "      <td>1997</td>\n",
       "      <td>1965</td>\n",
       "      <td>[]</td>\n",
       "      <td>96</td>\n",
       "      <td>['24', '42', '25', '5', '0']</td>\n",
       "      <td>95.0</td>\n",
       "      <td>[]</td>\n",
       "      <td>NaN</td>\n",
       "      <td>1</td>\n",
       "      <td>1</td>\n",
       "      <td>4.00</td>\n",
       "    </tr>\n",
       "    <tr>\n",
       "      <th>52464</th>\n",
       "      <td>36374396-algedonic</td>\n",
       "      <td>Algedonic</td>\n",
       "      <td>No</td>\n",
       "      <td>R.H. Sin (Goodreads Author)</td>\n",
       "      <td>3.71</td>\n",
       "      <td>Bestselling poet r.h. Sin, author of the Whisk...</td>\n",
       "      <td>NaN</td>\n",
       "      <td>9781449494223</td>\n",
       "      <td>['Poetry', 'Nonfiction', 'Romance', 'Feminism']</td>\n",
       "      <td>[]</td>\n",
       "      <td>Paperback</td>\n",
       "      <td>NaN</td>\n",
       "      <td>128</td>\n",
       "      <td>Andrews McMeel Publishing</td>\n",
       "      <td>December 12th 2017</td>\n",
       "      <td>NaN</td>\n",
       "      <td>[]</td>\n",
       "      <td>1489</td>\n",
       "      <td>['501', '402', '339', '144', '103']</td>\n",
       "      <td>83.0</td>\n",
       "      <td>[]</td>\n",
       "      <td>https://i.gr-assets.com/images/S/compressed.ph...</td>\n",
       "      <td>1</td>\n",
       "      <td>1</td>\n",
       "      <td>8.94</td>\n",
       "    </tr>\n",
       "  </tbody>\n",
       "</table>\n",
       "<p>3806 rows × 25 columns</p>\n",
       "</div>"
      ],
      "text/plain": [
       "                                          bookId  \\\n",
       "503                34521870-mistress-suffragette   \n",
       "570                  36236125-invisible-monsters   \n",
       "645               38311414-house-of-sand-and-fog   \n",
       "703                       41423092-the-awakening   \n",
       "751    7770.One_Fish_Two_Fish_Red_Fish_Blue_Fish   \n",
       "...                                          ...   \n",
       "52411                        21691391-pixie-dust   \n",
       "52416                       23014216-when-i-fall   \n",
       "52429   20665259-did-god-really-command-genocide   \n",
       "52454                     13254398-au-petit-poil   \n",
       "52464                         36374396-algedonic   \n",
       "\n",
       "                                                   title series  \\\n",
       "503                                 Mistress Suffragette     No   \n",
       "570                                   Invisible Monsters     No   \n",
       "645                                House of Sand and Fog     No   \n",
       "703                        The Awakening: Fate in Motion     No   \n",
       "751              One Fish, Two Fish, Red Fish, Blue Fish     No   \n",
       "...                                                  ...    ...   \n",
       "52411                                         Pixie Dust    Yes   \n",
       "52416                                        When I Fall    Yes   \n",
       "52429  Did God Really Command Genocide?: Coming to Te...     No   \n",
       "52454                                      Au Petit Poil    Yes   \n",
       "52464                                          Algedonic     No   \n",
       "\n",
       "                                    author  rating  \\\n",
       "503        Diana Forbes (Goodreads Author)    4.34   \n",
       "570     Chuck Palahniuk (Goodreads Author)    3.98   \n",
       "645                        Andre Dubus III    3.85   \n",
       "703    Suzanne Boisvert (Goodreads Author)    4.31   \n",
       "751                     Dr. Seuss (Reader)    4.13   \n",
       "...                                    ...     ...   \n",
       "52411         Laura Lee (Goodreads Author)    3.79   \n",
       "52416        J. Daniels (Goodreads Author)    4.30   \n",
       "52429           Paul Copan, Matt Flannagan    4.18   \n",
       "52454                            A.A. Fair    3.89   \n",
       "52464          R.H. Sin (Goodreads Author)    3.71   \n",
       "\n",
       "                                             description language  \\\n",
       "503    \\n  A young woman without prospects at a ball ...      NaN   \n",
       "570    She's a catwalk model who has everything: a bo...      NaN   \n",
       "645    In this “page-turner with a beating heart” (Bo...      NaN   \n",
       "703    Exiled from Earth thousands of years ago, Sar ...      NaN   \n",
       "751    One Fish Two Fish Red Fish Blue Fish is a 1960...      NaN   \n",
       "...                                                  ...      ...   \n",
       "52411  *A lonesome fairy with no clue how to wield he...      NaN   \n",
       "52416  From New York Times bestselling author, J. Dan...      NaN   \n",
       "52429  A common objection to belief in the God of the...      NaN   \n",
       "52454                                                NaN      NaN   \n",
       "52464  Bestselling poet r.h. Sin, author of the Whisk...      NaN   \n",
       "\n",
       "                isbn                                             genres  \\\n",
       "503       B06XG3G2TF  ['Fiction', 'Novels', 'Historical Fiction', 'D...   \n",
       "570    9780393355956  ['Fiction', 'Contemporary', 'Thriller', 'Myste...   \n",
       "645    9780393356342  ['Fiction', 'Contemporary', 'Literary Fiction'...   \n",
       "703       B07GNSZH8M  ['Contemporary', 'Drama', 'Book Club', 'Fictio...   \n",
       "751    9780007173686  ['Childrens', 'Picture Books', 'Fiction', 'Cla...   \n",
       "...              ...                                                ...   \n",
       "52411  9781465812780  ['Fantasy', 'Paranormal', 'Paranormal Romance'...   \n",
       "52416  9999999999999  ['Romance', 'New Adult', 'Contemporary Romance...   \n",
       "52429  9780801016226  ['Theology', 'Christian', 'Religion', 'Christi...   \n",
       "52454  9782702427651                ['Mystery', 'Fiction', 'Detective']   \n",
       "52464  9781449494223    ['Poetry', 'Nonfiction', 'Romance', 'Feminism']   \n",
       "\n",
       "                                              characters      bookFormat  \\\n",
       "503                                                   []  Kindle Edition   \n",
       "570    ['Shannon McFarland', 'Brandy Alexander', 'Evi...       Paperback   \n",
       "645    ['Colonel Behrani', 'Kathy Nicolo', 'Sheriff L...       Paperback   \n",
       "703                                                   []  Kindle Edition   \n",
       "751                                                   []       Hardcover   \n",
       "...                                                  ...             ...   \n",
       "52411                                                 []           ebook   \n",
       "52416                    ['Reed Tennyson', 'Beth Davis']             NaN   \n",
       "52429                                                 []       Paperback   \n",
       "52454                      ['Bertha Cool', 'Donald Lam']             NaN   \n",
       "52464                                                 []       Paperback   \n",
       "\n",
       "      edition pages                        publisher         publishDate  \\\n",
       "503       NaN   333                Penmore Press LLC            03/05/17   \n",
       "570       NaN   304             W. W. Norton Company            05/01/18   \n",
       "645       NaN   368             W. W. Norton Company            10/02/18   \n",
       "703       NaN   331                              NaN            09/15/18   \n",
       "751       NaN    64  Harper Collins Children's Books            10/06/03   \n",
       "...       ...   ...                              ...                 ...   \n",
       "52411     NaN   NaN                        Laura Lee  December 31st 2011   \n",
       "52416     NaN   343                              NaN     March 17th 2015   \n",
       "52429     NaN   352                      Baker Books  November 18th 2014   \n",
       "52454     NaN   154     Librairie des Champs-Elysées                1997   \n",
       "52464     NaN   128        Andrews McMeel Publishing  December 12th 2017   \n",
       "\n",
       "        firstPublishDate                                             awards  \\\n",
       "503                  NaN                                                 []   \n",
       "570             09/17/99                                                 []   \n",
       "645             10/28/99  ['Los Angeles Times Book Prize Nominee for Fic...   \n",
       "703                  NaN                                                 []   \n",
       "751             10/28/60                                                 []   \n",
       "...                  ...                                                ...   \n",
       "52411                NaN                                                 []   \n",
       "52416                NaN                                                 []   \n",
       "52429  October 21st 2014                                                 []   \n",
       "52454               1965                                                 []   \n",
       "52464                NaN                                                 []   \n",
       "\n",
       "       numRatings                               ratingsByStars  likedPercent  \\\n",
       "503          7647         ['3553', '3422', '466', '140', '66']          97.0   \n",
       "570        128254  ['47150', '45163', '25392', '7675', '2874']          92.0   \n",
       "645        125230  ['38141', '46256', '28560', '8447', '3826']          90.0   \n",
       "703          6682         ['3045', '3031', '329', '206', '71']          96.0   \n",
       "751        165623  ['81438', '41473', '30307', '8407', '3998']          93.0   \n",
       "...           ...                                          ...           ...   \n",
       "52411        1373           ['460', '424', '299', '115', '75']          86.0   \n",
       "52416       12022       ['5939', '4225', '1488', '256', '114']          97.0   \n",
       "52429         114                 ['47', '47', '13', '7', '0']          94.0   \n",
       "52454          96                 ['24', '42', '25', '5', '0']          95.0   \n",
       "52464        1489          ['501', '402', '339', '144', '103']          83.0   \n",
       "\n",
       "                                   setting  \\\n",
       "503                                     []   \n",
       "570                                     []   \n",
       "645         ['California (United States)']   \n",
       "703                                     []   \n",
       "751                                     []   \n",
       "...                                    ...   \n",
       "52411                                   []   \n",
       "52416  ['Ruxton, Alabama (United States)']   \n",
       "52429                                   []   \n",
       "52454                                   []   \n",
       "52464                                   []   \n",
       "\n",
       "                                                coverImg  bbeScore  bbeVotes  \\\n",
       "503    https://i.gr-assets.com/images/S/compressed.ph...     18215       203   \n",
       "570    https://i.gr-assets.com/images/S/compressed.ph...     15186       181   \n",
       "645    https://i.gr-assets.com/images/S/compressed.ph...     12262       176   \n",
       "703    https://i.gr-assets.com/images/S/compressed.ph...     10611       118   \n",
       "751    https://i.gr-assets.com/images/S/compressed.ph...      9731       163   \n",
       "...                                                  ...       ...       ...   \n",
       "52411  https://i.gr-assets.com/images/S/compressed.ph...         2         1   \n",
       "52416  https://i.gr-assets.com/images/S/compressed.ph...         2         1   \n",
       "52429  https://i.gr-assets.com/images/S/compressed.ph...         2         1   \n",
       "52454                                                NaN         1         1   \n",
       "52464  https://i.gr-assets.com/images/S/compressed.ph...         1         1   \n",
       "\n",
       "       price  \n",
       "503      NaN  \n",
       "570     6.53  \n",
       "645     2.86  \n",
       "703      NaN  \n",
       "751      NaN  \n",
       "...      ...  \n",
       "52411    NaN  \n",
       "52416    NaN  \n",
       "52429  17.37  \n",
       "52454   4.00  \n",
       "52464   8.94  \n",
       "\n",
       "[3806 rows x 25 columns]"
      ]
     },
     "execution_count": 10,
     "metadata": {},
     "output_type": "execute_result"
    }
   ],
   "source": [
    "df[df['language'].isna()]"
   ]
  },
  {
   "cell_type": "markdown",
   "id": "7e16544a",
   "metadata": {},
   "source": [
    "Since most of the books of the dataset are in English and most of the books in the world are translated in English, we replace the NaN values by the mode."
   ]
  },
  {
   "cell_type": "code",
   "execution_count": 11,
   "id": "facacb85",
   "metadata": {},
   "outputs": [
    {
     "data": {
      "text/plain": [
       "English                                  46467\n",
       "Arabic                                    1038\n",
       "Spanish                                    687\n",
       "French                                     579\n",
       "German                                     528\n",
       "                                         ...  \n",
       "Aromanian; Arumanian; Macedo-Romanian        1\n",
       "Basque                                       1\n",
       "Faroese                                      1\n",
       "Iranian (Other)                              1\n",
       "Norwegian Nynorsk; Nynorsk, Norwegian        1\n",
       "Name: language, Length: 81, dtype: int64"
      ]
     },
     "execution_count": 11,
     "metadata": {},
     "output_type": "execute_result"
    }
   ],
   "source": [
    "df['language'].fillna(df['language'].mode()[0], inplace=True)\n",
    "\n",
    "df['language'].value_counts(dropna=False) "
   ]
  },
  {
   "cell_type": "markdown",
   "id": "0da7055c",
   "metadata": {},
   "source": [
    "### 3. Book Format"
   ]
  },
  {
   "cell_type": "code",
   "execution_count": 12,
   "id": "4213071b",
   "metadata": {},
   "outputs": [
    {
     "data": {
      "text/plain": [
       "Paperback                26773\n",
       "Hardcover                12268\n",
       "Kindle Edition            5834\n",
       "Mass Market Paperback     2567\n",
       "ebook                     2547\n",
       "                         ...  \n",
       "capa mole                    1\n",
       "Box-Set                      1\n",
       "Paperback, eBook             1\n",
       "paper book                   1\n",
       "pamphlet                     1\n",
       "Name: bookFormat, Length: 137, dtype: int64"
      ]
     },
     "execution_count": 12,
     "metadata": {},
     "output_type": "execute_result"
    }
   ],
   "source": [
    "df['bookFormat'].value_counts(dropna=False) \n"
   ]
  },
  {
   "cell_type": "markdown",
   "id": "281d65a6",
   "metadata": {},
   "source": [
    "It seems that most of the books are paperback format but it's less than 50% of the dataset so we don't use the mode but replace the NaN values by 'other'."
   ]
  },
  {
   "cell_type": "code",
   "execution_count": 13,
   "id": "039002f2",
   "metadata": {},
   "outputs": [
    {
     "data": {
      "text/plain": [
       "0"
      ]
     },
     "execution_count": 13,
     "metadata": {},
     "output_type": "execute_result"
    }
   ],
   "source": [
    "df['bookFormat']= df['bookFormat'].fillna('Other')\n",
    "\n",
    "df['bookFormat'].isna().sum()"
   ]
  },
  {
   "cell_type": "markdown",
   "id": "78bb64c4",
   "metadata": {},
   "source": [
    "### 4. Pages"
   ]
  },
  {
   "cell_type": "markdown",
   "id": "c3ba13d6",
   "metadata": {},
   "source": [
    "The type of 'pages' column is 'object' because some rows contain values like '1page' so we first need to change it as interger and then we replace the NaN values by the mean."
   ]
  },
  {
   "cell_type": "code",
   "execution_count": 14,
   "id": "62d6d29b",
   "metadata": {},
   "outputs": [
    {
     "data": {
      "text/plain": [
       "2347"
      ]
     },
     "execution_count": 14,
     "metadata": {},
     "output_type": "execute_result"
    }
   ],
   "source": [
    "df['pages'].isna().sum()"
   ]
  },
  {
   "cell_type": "code",
   "execution_count": 15,
   "id": "cd1f682f",
   "metadata": {},
   "outputs": [
    {
     "data": {
      "text/plain": [
       "328.51453192635296"
      ]
     },
     "execution_count": 15,
     "metadata": {},
     "output_type": "execute_result"
    }
   ],
   "source": [
    "# we first need to keep only the numeric part \n",
    "df['pages'] = df['pages'].str.extract('(\\d+)')\n",
    "\n",
    "# then we drop de NaN\n",
    "pages_drop = df['pages'].dropna()\n",
    "\n",
    "# we convert to interger\n",
    "pages_int = pages_drop.astype(int)\n",
    "\n",
    "# we check the mean\n",
    "pages_int.mean()\n"
   ]
  },
  {
   "cell_type": "code",
   "execution_count": 16,
   "id": "e8135836",
   "metadata": {},
   "outputs": [
    {
     "data": {
      "text/plain": [
       "0"
      ]
     },
     "execution_count": 16,
     "metadata": {},
     "output_type": "execute_result"
    }
   ],
   "source": [
    "# we replace de NaN with the mean\n",
    "df['pages'] = df['pages'].fillna(328)\n",
    "\n",
    "# we check the NaN values\n",
    "df['pages'].isna().sum()\n"
   ]
  },
  {
   "cell_type": "code",
   "execution_count": 17,
   "id": "bbcd172a",
   "metadata": {},
   "outputs": [
    {
     "data": {
      "text/plain": [
       "bookId               object\n",
       "title                object\n",
       "series               object\n",
       "author               object\n",
       "rating              float64\n",
       "description          object\n",
       "language             object\n",
       "isbn                 object\n",
       "genres               object\n",
       "characters           object\n",
       "bookFormat           object\n",
       "edition              object\n",
       "pages                 int64\n",
       "publisher            object\n",
       "publishDate          object\n",
       "firstPublishDate     object\n",
       "awards               object\n",
       "numRatings            int64\n",
       "ratingsByStars       object\n",
       "likedPercent        float64\n",
       "setting              object\n",
       "coverImg             object\n",
       "bbeScore              int64\n",
       "bbeVotes              int64\n",
       "price                object\n",
       "dtype: object"
      ]
     },
     "execution_count": 17,
     "metadata": {},
     "output_type": "execute_result"
    }
   ],
   "source": [
    "# we convert the whole column into integer\n",
    "df['pages'] = df['pages'].astype(int)\n",
    "# we check if page is interger\n",
    "df.dtypes"
   ]
  },
  {
   "cell_type": "markdown",
   "id": "f00ffb14",
   "metadata": {},
   "source": [
    "### 5. Publisher "
   ]
  },
  {
   "cell_type": "markdown",
   "id": "71d8a54b",
   "metadata": {},
   "source": [
    "We replace the NaN value by 'Other'"
   ]
  },
  {
   "cell_type": "code",
   "execution_count": 18,
   "id": "30218b01",
   "metadata": {},
   "outputs": [
    {
     "data": {
      "text/plain": [
       "NaN                   3696\n",
       "Vintage                572\n",
       "HarperCollins          563\n",
       "Penguin Books          430\n",
       "Ballantine Books       399\n",
       "                      ... \n",
       "Bang Ediciones           1\n",
       "Book Sales               1\n",
       "Dakota Press             1\n",
       "Tannbourne Limited       1\n",
       "Bonneville               1\n",
       "Name: publisher, Length: 11111, dtype: int64"
      ]
     },
     "execution_count": 18,
     "metadata": {},
     "output_type": "execute_result"
    }
   ],
   "source": [
    "df['publisher'].value_counts(dropna=False) \n"
   ]
  },
  {
   "cell_type": "code",
   "execution_count": 19,
   "id": "49c7e36f",
   "metadata": {},
   "outputs": [
    {
     "data": {
      "text/plain": [
       "Other                 3696\n",
       "Vintage                572\n",
       "HarperCollins          563\n",
       "Penguin Books          430\n",
       "Ballantine Books       399\n",
       "                      ... \n",
       "Bang Ediciones           1\n",
       "Book Sales               1\n",
       "Dakota Press             1\n",
       "Tannbourne Limited       1\n",
       "Bonneville               1\n",
       "Name: publisher, Length: 11111, dtype: int64"
      ]
     },
     "execution_count": 19,
     "metadata": {},
     "output_type": "execute_result"
    }
   ],
   "source": [
    "df['publisher'] = df['publisher'].fillna('Other')\n",
    "df['publisher'].value_counts(dropna=False) \n"
   ]
  },
  {
   "cell_type": "markdown",
   "id": "677c4a66",
   "metadata": {},
   "source": [
    "### 6. Publish date"
   ]
  },
  {
   "cell_type": "markdown",
   "id": "1bf7bf23",
   "metadata": {},
   "source": [
    "For this date column we first need to convert it into datetime format, then we replace the NaN values with the mean."
   ]
  },
  {
   "cell_type": "code",
   "execution_count": 20,
   "id": "dcefaf0a",
   "metadata": {},
   "outputs": [
    {
     "data": {
      "text/plain": [
       "0       2008-09-14\n",
       "1       2004-09-28\n",
       "2       2006-05-23\n",
       "3       2000-10-10\n",
       "4       2006-09-06\n",
       "           ...    \n",
       "52473   2011-05-28\n",
       "52474   2011-08-05\n",
       "52475   2011-03-18\n",
       "52476   2011-09-01\n",
       "52477   2011-05-08\n",
       "Name: publishDate, Length: 52478, dtype: datetime64[ns]"
      ]
     },
     "execution_count": 20,
     "metadata": {},
     "output_type": "execute_result"
    }
   ],
   "source": [
    "df['publishDate'] = pd.to_datetime(df['publishDate'], errors='coerce')\n",
    "df['publishDate']"
   ]
  },
  {
   "cell_type": "code",
   "execution_count": 21,
   "id": "cd0b38b9",
   "metadata": {},
   "outputs": [
    {
     "data": {
      "text/plain": [
       "Timestamp('2006-08-20 10:18:46.451383808')"
      ]
     },
     "execution_count": 21,
     "metadata": {},
     "output_type": "execute_result"
    }
   ],
   "source": [
    "df['publishDate'].mean()"
   ]
  },
  {
   "cell_type": "code",
   "execution_count": 22,
   "id": "740c7b2b",
   "metadata": {},
   "outputs": [],
   "source": [
    "df['publishDate'] = df['publishDate'].fillna(df['publishDate'].mean())"
   ]
  },
  {
   "cell_type": "code",
   "execution_count": 23,
   "id": "02d10cae",
   "metadata": {},
   "outputs": [
    {
     "data": {
      "text/plain": [
       "0"
      ]
     },
     "execution_count": 23,
     "metadata": {},
     "output_type": "execute_result"
    }
   ],
   "source": [
    "df['publishDate'].isna().sum()"
   ]
  },
  {
   "cell_type": "markdown",
   "id": "5824965c",
   "metadata": {},
   "source": [
    "### 7. First Publish Date"
   ]
  },
  {
   "cell_type": "markdown",
   "id": "f0f5fe38",
   "metadata": {},
   "source": [
    "Since less than the half of the dataset has a first publish date, we will replace the column name by 'severalPublications' and the NaN values by 'No' and the other values by 'Yes'"
   ]
  },
  {
   "cell_type": "code",
   "execution_count": 24,
   "id": "774c2a2e",
   "metadata": {},
   "outputs": [
    {
     "data": {
      "text/plain": [
       "Yes    31152\n",
       "No     21326\n",
       "Name: severalPublications, dtype: int64"
      ]
     },
     "execution_count": 24,
     "metadata": {},
     "output_type": "execute_result"
    }
   ],
   "source": [
    "df['severalPublications'] = df['firstPublishDate']\n",
    "\n",
    "df['severalPublications'] = df['severalPublications'].fillna('No')\n",
    "\n",
    "df['severalPublications'] = np.where(df['severalPublications'] == 'No', 'No', 'Yes')\n",
    "\n",
    "df['severalPublications'].value_counts(dropna=False) "
   ]
  },
  {
   "cell_type": "markdown",
   "id": "8887e5ab",
   "metadata": {},
   "source": [
    "### 8. Awards"
   ]
  },
  {
   "cell_type": "markdown",
   "id": "3636788e",
   "metadata": {},
   "source": [
    "The 'awards' columon does not have any NaN values but instead '[]' is written. We replace these values by 'No' and the other by 'Yes'. "
   ]
  },
  {
   "cell_type": "code",
   "execution_count": 25,
   "id": "da771d4e",
   "metadata": {},
   "outputs": [
    {
     "data": {
      "text/plain": [
       "No     41864\n",
       "Yes    10614\n",
       "Name: awards, dtype: int64"
      ]
     },
     "execution_count": 25,
     "metadata": {},
     "output_type": "execute_result"
    }
   ],
   "source": [
    "df['awards'] = np.where(df['awards'] == '[]', 'No', 'Yes')\n",
    "\n",
    "df['awards'].value_counts(dropna=False) \n"
   ]
  },
  {
   "cell_type": "markdown",
   "id": "280878df",
   "metadata": {},
   "source": [
    "### 10. Price"
   ]
  },
  {
   "cell_type": "markdown",
   "id": "edf12c28",
   "metadata": {},
   "source": [
    "We first need the convert the price into float and then replace the NaN values by the mean."
   ]
  },
  {
   "cell_type": "code",
   "execution_count": 26,
   "id": "3d33b969",
   "metadata": {},
   "outputs": [],
   "source": [
    "# df['price'].astype(float)"
   ]
  },
  {
   "cell_type": "code",
   "execution_count": 27,
   "id": "33a0b4a2",
   "metadata": {},
   "outputs": [],
   "source": [
    "# df[(df['price']=='1.189.88')]"
   ]
  },
  {
   "cell_type": "markdown",
   "id": "e95297b8",
   "metadata": {},
   "source": [
    "It seems that that this price book is not in dollar but we can not guess which currency it is so we drop the row."
   ]
  },
  {
   "cell_type": "code",
   "execution_count": 28,
   "id": "4617f06c",
   "metadata": {},
   "outputs": [],
   "source": [
    "# df.drop(5067, inplace=True)"
   ]
  },
  {
   "cell_type": "code",
   "execution_count": 29,
   "id": "2687069e",
   "metadata": {},
   "outputs": [],
   "source": [
    "# df['price'].astype(float)"
   ]
  },
  {
   "cell_type": "code",
   "execution_count": 30,
   "id": "ba2f792e",
   "metadata": {},
   "outputs": [],
   "source": [
    "# df[(df['price']=='1.743.28')]"
   ]
  },
  {
   "cell_type": "code",
   "execution_count": 31,
   "id": "4c88c295",
   "metadata": {},
   "outputs": [],
   "source": [
    "# df.drop(14042, inplace=True)\n",
    "# df.drop(20913, inplace=True)"
   ]
  },
  {
   "cell_type": "code",
   "execution_count": 32,
   "id": "76ea32eb",
   "metadata": {},
   "outputs": [],
   "source": [
    "# df['price'].astype(float)"
   ]
  },
  {
   "cell_type": "code",
   "execution_count": 33,
   "id": "3cd99f41",
   "metadata": {},
   "outputs": [],
   "source": [
    "# df['price'] = df['price'].fillna(df['price'].mean())"
   ]
  },
  {
   "cell_type": "code",
   "execution_count": 34,
   "id": "94d1c094",
   "metadata": {},
   "outputs": [
    {
     "data": {
      "image/png": "[encoded data removed]",
      "text/plain": [
       "<Figure size 500x500 with 1 Axes>"
      ]
     },
     "metadata": {},
     "output_type": "display_data"
    }
   ],
   "source": [
    "sns.displot(df['price'], bins=50, kde=True) # bins = intervalle données x , kde=True : pour afficher une ligne\n",
    "plt.show()"
   ]
  },
  {
   "cell_type": "code",
   "execution_count": 35,
   "id": "a24e75e3",
   "metadata": {},
   "outputs": [],
   "source": [
    "# df['price'].max()"
   ]
  },
  {
   "cell_type": "code",
   "execution_count": 36,
   "id": "72c1c511",
   "metadata": {},
   "outputs": [],
   "source": [
    "# df['price'] = df['price'].astype(float)\n"
   ]
  },
  {
   "cell_type": "code",
   "execution_count": 37,
   "id": "0f0af0fd",
   "metadata": {},
   "outputs": [],
   "source": [
    "# df['price'] = df['price'].str.replace(r'[^\\d.]', '', regex=True)\n",
    "# df['price'] = df['price'].str.replace('.', '', regex=True)\n",
    "# df['price'] = df['price'].str.replace(',', '.', regex=True)\n",
    "\n",
    "# # Convert the 'price' column to float\n",
    "# df['price'] = df['price'].astype(float)\n"
   ]
  },
  {
   "cell_type": "code",
   "execution_count": 38,
   "id": "8105d00d",
   "metadata": {},
   "outputs": [
    {
     "name": "stdout",
     "output_type": "stream",
     "text": [
      "                                            bookId  \\\n",
      "0                         2767052-the-hunger-games   \n",
      "1      2.Harry_Potter_and_the_Order_of_the_Phoenix   \n",
      "2                       2657.To_Kill_a_Mockingbird   \n",
      "3                         1885.Pride_and_Prejudice   \n",
      "4                                   41865.Twilight   \n",
      "...                                            ...   \n",
      "52473                           11492014-fractured   \n",
      "52474                             11836711-anasazi   \n",
      "52475                              10815662-marked   \n",
      "52476                         11330278-wayward-son   \n",
      "52477                 10991547-daughter-of-helaman   \n",
      "\n",
      "                                           title series  \\\n",
      "0                               The Hunger Games    Yes   \n",
      "1      Harry Potter and the Order of the Phoenix    Yes   \n",
      "2                          To Kill a Mockingbird    Yes   \n",
      "3                            Pride and Prejudice     No   \n",
      "4                                       Twilight    Yes   \n",
      "...                                          ...    ...   \n",
      "52473                                  Fractured    Yes   \n",
      "52474                                    Anasazi    Yes   \n",
      "52475                                     Marked    Yes   \n",
      "52476                                Wayward Son     No   \n",
      "52477                        Daughter of Helaman    Yes   \n",
      "\n",
      "                                                  author  rating  \\\n",
      "0                                        Suzanne Collins    4.33   \n",
      "1              J.K. Rowling, Mary GrandPré (Illustrator)    4.50   \n",
      "2                                             Harper Lee    4.28   \n",
      "3              Jane Austen, Anna Quindlen (Introduction)    4.26   \n",
      "4                                        Stephenie Meyer    3.60   \n",
      "...                                                  ...     ...   \n",
      "52473                   Cheri Schmidt (Goodreads Author)    4.00   \n",
      "52474                                      Emma Michaels    4.19   \n",
      "52475                  Kim Richardson (Goodreads Author)    3.70   \n",
      "52476  Tom Pollack (Goodreads Author), John Loftus (G...    3.85   \n",
      "52477                    Misty Moncur (Goodreads Author)    4.02   \n",
      "\n",
      "                                             description language  \\\n",
      "0      WINNING MEANS FAME AND FORTUNE.LOSING MEANS CE...  English   \n",
      "1      There is a door at the end of a silent corrido...  English   \n",
      "2      The unforgettable novel of a childhood in a sl...  English   \n",
      "3      Alternate cover edition of ISBN 9780679783268S...  English   \n",
      "4      About three things I was absolutely positive.\\...  English   \n",
      "...                                                  ...      ...   \n",
      "52473  The Fateful Trilogy continues with Fractured. ...  English   \n",
      "52474  'Anasazi', sequel to 'The Thirteenth Chime' by...  English   \n",
      "52475  --READERS FAVORITE AWARDS WINNER 2011--Sixteen...  English   \n",
      "52476  A POWERFUL TREMOR UNEARTHS AN ANCIENT SECRETBu...  English   \n",
      "52477  Fighting in Helaman's army is Keturah's deepes...  English   \n",
      "\n",
      "                isbn                                             genres  \\\n",
      "0      9780439023481  ['Young Adult', 'Fiction', 'Dystopia', 'Fantas...   \n",
      "1      9780439358071  ['Fantasy', 'Young Adult', 'Fiction', 'Magic',...   \n",
      "2      9999999999999  ['Classics', 'Fiction', 'Historical Fiction', ...   \n",
      "3      9999999999999  ['Classics', 'Fiction', 'Romance', 'Historical...   \n",
      "4      9780316015844  ['Young Adult', 'Fantasy', 'Romance', 'Vampire...   \n",
      "...              ...                                                ...   \n",
      "52473  2940012616562  ['Vampires', 'Paranormal', 'Young Adult', 'Rom...   \n",
      "52474  9999999999999                         ['Mystery', 'Young Adult']   \n",
      "52475  9781461017097  ['Fantasy', 'Young Adult', 'Paranormal', 'Ange...   \n",
      "52476  9781450755634  ['Fiction', 'Mystery', 'Historical Fiction', '...   \n",
      "52477  9781599554976  ['Lds Fiction', 'Historical Fiction', 'Young A...   \n",
      "\n",
      "                                              characters bookFormat  \\\n",
      "0      ['Katniss Everdeen', 'Peeta Mellark', 'Cato (H...  Hardcover   \n",
      "1      ['Sirius Black', 'Draco Malfoy', 'Ron Weasley'...  Paperback   \n",
      "2      ['Scout Finch', 'Atticus Finch', 'Jem Finch', ...  Paperback   \n",
      "3      ['Mr. Bennet', 'Mrs. Bennet', 'Jane Bennet', '...  Paperback   \n",
      "4      ['Edward Cullen', 'Jacob Black', 'Laurent', 'R...  Paperback   \n",
      "...                                                  ...        ...   \n",
      "52473                                                 []       Nook   \n",
      "52474                                                 []  Paperback   \n",
      "52475                                                 []  Paperback   \n",
      "52476                                                 []  Paperback   \n",
      "52477                                                 []  Paperback   \n",
      "\n",
      "                                  edition  pages  \\\n",
      "0                           First Edition    374   \n",
      "1                              US Edition    870   \n",
      "2                                     NaN    324   \n",
      "3      Modern Library Classics, USA / CAN    279   \n",
      "4                                     NaN    501   \n",
      "...                                   ...    ...   \n",
      "52473                                 NaN      0   \n",
      "52474                       First Edition    190   \n",
      "52475                                 NaN    280   \n",
      "52476                         1st edition    507   \n",
      "52477                                 NaN    201   \n",
      "\n",
      "                              publisher publishDate firstPublishDate awards  \\\n",
      "0                      Scholastic Press  2008-09-14              NaN    Yes   \n",
      "1                       Scholastic Inc.  2004-09-28         06/21/03    Yes   \n",
      "2      Harper Perennial Modern Classics  2006-05-23         07/11/60    Yes   \n",
      "3                        Modern Library  2000-10-10         01/28/13     No   \n",
      "4             Little, Brown and Company  2006-09-06         10/05/05    Yes   \n",
      "...                                 ...         ...              ...    ...   \n",
      "52473                     Cheri Schmidt  2011-05-28              NaN     No   \n",
      "52474                Bokheim Publishing  2011-08-05  August 3rd 2011     No   \n",
      "52475                       CreateSpace  2011-03-18  March 15th 2011    Yes   \n",
      "52476               Cascada Productions  2011-09-01   April 5th 2011     No   \n",
      "52477                        Bonneville  2011-05-08              NaN     No   \n",
      "\n",
      "       numRatings                                     ratingsByStars  \\\n",
      "0         6376780  ['3444695', '1921313', '745221', '171994', '93...   \n",
      "1         2507623  ['1593642', '637516', '222366', '39573', '14526']   \n",
      "2         4501075  ['2363896', '1333153', '573280', '149952', '80...   \n",
      "3         2998241  ['1617567', '816659', '373311', '113934', '767...   \n",
      "4         4964519  ['1751460', '1113682', '1008686', '542017', '5...   \n",
      "...           ...                                                ...   \n",
      "52473         871                  ['311', '310', '197', '42', '11']   \n",
      "52474          37                        ['16', '14', '5', '2', '0']   \n",
      "52475        6674             ['2109', '1868', '1660', '647', '390']   \n",
      "52476         238                      ['77', '78', '59', '19', '5']   \n",
      "52477         246                     ['106', '73', '42', '17', '8']   \n",
      "\n",
      "       likedPercent                                            setting  \\\n",
      "0              96.0  ['District 12, Panem', 'Capitol, Panem', 'Pane...   \n",
      "1              98.0  ['Hogwarts School of Witchcraft and Wizardry (...   \n",
      "2              95.0               ['Maycomb, Alabama (United States)']   \n",
      "3              94.0  ['United Kingdom', 'Derbyshire, England (Unite...   \n",
      "4              78.0  ['Forks, Washington (United States)', 'Phoenix...   \n",
      "...             ...                                                ...   \n",
      "52473          94.0                                                 []   \n",
      "52474          95.0                                                 []   \n",
      "52475          84.0                                                 []   \n",
      "52476          90.0                                                 []   \n",
      "52477          90.0                                                 []   \n",
      "\n",
      "                                                coverImg  bbeScore  bbeVotes  \\\n",
      "0      https://i.gr-assets.com/images/S/compressed.ph...   2993816     30516   \n",
      "1      https://i.gr-assets.com/images/S/compressed.ph...   2632233     26923   \n",
      "2      https://i.gr-assets.com/images/S/compressed.ph...   2269402     23328   \n",
      "3      https://i.gr-assets.com/images/S/compressed.ph...   1983116     20452   \n",
      "4      https://i.gr-assets.com/images/S/compressed.ph...   1459448     14874   \n",
      "...                                                  ...       ...       ...   \n",
      "52473  https://i.gr-assets.com/images/S/compressed.ph...         0         1   \n",
      "52474  https://i.gr-assets.com/images/S/compressed.ph...         0         1   \n",
      "52475  https://i.gr-assets.com/images/S/compressed.ph...         0         1   \n",
      "52476  https://i.gr-assets.com/images/S/compressed.ph...         0         1   \n",
      "52477  https://i.gr-assets.com/images/S/compressed.ph...         0         1   \n",
      "\n",
      "       price severalPublications  \n",
      "0       5.09                  No  \n",
      "1       7.38                 Yes  \n",
      "2        NaN                 Yes  \n",
      "3        NaN                 Yes  \n",
      "4       2.10                 Yes  \n",
      "...      ...                 ...  \n",
      "52473    NaN                  No  \n",
      "52474    NaN                 Yes  \n",
      "52475   7.37                 Yes  \n",
      "52476   2.86                 Yes  \n",
      "52477   5.20                  No  \n",
      "\n",
      "[52478 rows x 26 columns]\n"
     ]
    }
   ],
   "source": [
    "\n",
    "\n",
    "# Preprocess the 'price' column to remove non-numeric characters and format dots\n",
    "df['price'] = df['price'].str.replace(r'[^\\d,.]', '', regex=True)  # Remove non-numeric characters\n",
    "df['price'] = df['price'].str.replace(',', '.', regex=True)  # Replace comma with dot\n",
    "df['price'] = df['price'].str.replace(r'(\\.\\d+)\\.', r'\\1', regex=True)  # Keep the first dot\n",
    "\n",
    "# Convert the 'price' column to float\n",
    "df['price'] = df['price'].astype(float)\n",
    "\n",
    "# print(df)\n"
   ]
  },
  {
   "cell_type": "code",
   "execution_count": 39,
   "id": "76f8234a",
   "metadata": {},
   "outputs": [
    {
     "data": {
      "image/png": "[encoded data removed]",
      "text/plain": [
       "<Figure size 500x500 with 1 Axes>"
      ]
     },
     "metadata": {},
     "output_type": "display_data"
    }
   ],
   "source": [
    "sns.displot(df['price'], bins=50, kde=True) # bins = intervalle données x , kde=True : pour afficher une ligne\n",
    "plt.show()"
   ]
  },
  {
   "cell_type": "code",
   "execution_count": null,
   "id": "cc306b24",
   "metadata": {},
   "outputs": [],
   "source": []
  }
 ],
 "metadata": {
  "kernelspec": {
   "display_name": "Python 3 (ipykernel)",
   "language": "python",
   "name": "python3"
  },
  "language_info": {
   "codemirror_mode": {
    "name": "ipython",
    "version": 3
   },
   "file_extension": ".py",
   "mimetype": "text/x-python",
   "name": "python",
   "nbconvert_exporter": "python",
   "pygments_lexer": "ipython3",
   "version": "3.11.4"
  }
 },
 "nbformat": 4,
 "nbformat_minor": 5
}
